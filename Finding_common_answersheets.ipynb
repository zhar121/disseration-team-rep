{
  "cells": [
    {
      "cell_type": "markdown",
      "metadata": {
        "id": "view-in-github",
        "colab_type": "text"
      },
      "source": [
        "<a href=\"https://colab.research.google.com/github/zhar121/disseration-team-rep/blob/main/Finding_common_answersheets.ipynb\" target=\"_parent\"><img src=\"https://colab.research.google.com/assets/colab-badge.svg\" alt=\"Open In Colab\"/></a>"
      ]
    },
    {
      "cell_type": "markdown",
      "metadata": {
        "id": "gOVP9otGL5_8"
      },
      "source": [
        "## **Load data**"
      ]
    },
    {
      "cell_type": "code",
      "execution_count": 4,
      "metadata": {
        "id": "F1Jmewp1vUxu",
        "colab": {
          "base_uri": "https://localhost:8080/"
        },
        "outputId": "524e07fa-538e-483e-cb4d-5f435825b4dd"
      },
      "outputs": [
        {
          "output_type": "stream",
          "name": "stdout",
          "text": [
            "Downloading...\n",
            "From: https://drive.google.com/uc?id=1GWqF6DLz6f9PR0mKg5h6kjbFBv2lHPFw\n",
            "To: /content/final_df.csv\n",
            "\r  0% 0.00/15.2M [00:00<?, ?B/s]\r 41% 6.29M/15.2M [00:00<00:00, 62.6MB/s]\r100% 15.2M/15.2M [00:00<00:00, 106MB/s] \n"
          ]
        }
      ],
      "source": [
        "import pandas as pd\n",
        "!gdown 1GWqF6DLz6f9PR0mKg5h6kjbFBv2lHPFw"
      ]
    },
    {
      "cell_type": "code",
      "source": [
        "final_df = pd.read_csv('final_df.csv')"
      ],
      "metadata": {
        "id": "3ACa0yMb4I0a"
      },
      "execution_count": 5,
      "outputs": []
    },
    {
      "cell_type": "code",
      "source": [
        "final_df.shape"
      ],
      "metadata": {
        "colab": {
          "base_uri": "https://localhost:8080/"
        },
        "id": "n1AAJdtb4MOF",
        "outputId": "b3bf0284-85a5-4306-925e-e5bb900f711b"
      },
      "execution_count": 6,
      "outputs": [
        {
          "output_type": "execute_result",
          "data": {
            "text/plain": [
              "(60514, 15)"
            ]
          },
          "metadata": {},
          "execution_count": 6
        }
      ]
    },
    {
      "cell_type": "code",
      "source": [
        "!gdown 1bRbiOYRMwOaVarWMtyC7m4lFmjLt5_G_"
      ],
      "metadata": {
        "colab": {
          "base_uri": "https://localhost:8080/"
        },
        "id": "f5bnP-8Otb4S",
        "outputId": "0df3bbec-6b10-4408-ba51-3731dc925a19"
      },
      "execution_count": 7,
      "outputs": [
        {
          "output_type": "stream",
          "name": "stdout",
          "text": [
            "Downloading...\n",
            "From: https://drive.google.com/uc?id=1bRbiOYRMwOaVarWMtyC7m4lFmjLt5_G_\n",
            "To: /content/candidates_method_2.csv\n",
            "\r  0% 0.00/1.15M [00:00<?, ?B/s]\r100% 1.15M/1.15M [00:00<00:00, 72.5MB/s]\n"
          ]
        }
      ]
    },
    {
      "cell_type": "code",
      "source": [
        "import pandas as pd\n",
        "candidates_method_2 = pd.read_csv('candidates_method_2.csv')"
      ],
      "metadata": {
        "id": "SfVzkpYetu0U"
      },
      "execution_count": 8,
      "outputs": []
    },
    {
      "cell_type": "code",
      "source": [
        "candidates_method_2.shape"
      ],
      "metadata": {
        "colab": {
          "base_uri": "https://localhost:8080/"
        },
        "id": "M_qKrHyWxqA6",
        "outputId": "3a98c90d-46bb-455e-d342-b5769e61f3e6"
      },
      "execution_count": 9,
      "outputs": [
        {
          "output_type": "execute_result",
          "data": {
            "text/plain": [
              "(15484, 2)"
            ]
          },
          "metadata": {},
          "execution_count": 9
        }
      ]
    },
    {
      "cell_type": "code",
      "source": [
        "candidates_method_2.drop_duplicates(inplace=True)"
      ],
      "metadata": {
        "id": "ae5itNB5xs2Z"
      },
      "execution_count": 10,
      "outputs": []
    },
    {
      "cell_type": "code",
      "source": [
        "candidates_method_2.shape"
      ],
      "metadata": {
        "colab": {
          "base_uri": "https://localhost:8080/"
        },
        "id": "7wF5rmsgxwJR",
        "outputId": "a2c3a453-6447-4821-cb3b-4cec313c5646"
      },
      "execution_count": 11,
      "outputs": [
        {
          "output_type": "execute_result",
          "data": {
            "text/plain": [
              "(217, 2)"
            ]
          },
          "metadata": {},
          "execution_count": 11
        }
      ]
    },
    {
      "cell_type": "code",
      "source": [
        "!gdown 1ckOZt7khs0Zh3bd55G2bhVdknnVQbKcI"
      ],
      "metadata": {
        "colab": {
          "base_uri": "https://localhost:8080/"
        },
        "id": "T6tzAWeYuLRL",
        "outputId": "8f7f324a-0a0c-4e02-a859-26295796d44b"
      },
      "execution_count": 12,
      "outputs": [
        {
          "output_type": "stream",
          "name": "stdout",
          "text": [
            "Downloading...\n",
            "From: https://drive.google.com/uc?id=1ckOZt7khs0Zh3bd55G2bhVdknnVQbKcI\n",
            "To: /content/candidates_method_3.csv\n",
            "\r  0% 0.00/1.25M [00:00<?, ?B/s]\r100% 1.25M/1.25M [00:00<00:00, 113MB/s]\n"
          ]
        }
      ]
    },
    {
      "cell_type": "code",
      "source": [
        "candidates_method_3 = pd.read_csv('candidates_method_3.csv')\n",
        "candidates_method_3.drop_duplicates(inplace=True)\n",
        "candidates_method_3.shape"
      ],
      "metadata": {
        "colab": {
          "base_uri": "https://localhost:8080/"
        },
        "id": "-s9l7cXhuYQO",
        "outputId": "c630adb9-cb73-4623-8bac-7a8b52ca49d6"
      },
      "execution_count": 13,
      "outputs": [
        {
          "output_type": "execute_result",
          "data": {
            "text/plain": [
              "(230, 2)"
            ]
          },
          "metadata": {},
          "execution_count": 13
        }
      ]
    },
    {
      "cell_type": "code",
      "source": [
        "!gdown 1MvEDVHldxMzUyhxPR3kUjW_A7Qbt7G-C"
      ],
      "metadata": {
        "colab": {
          "base_uri": "https://localhost:8080/"
        },
        "id": "Go1dMAPbun9h",
        "outputId": "793313a7-5cfc-4c0f-af57-8a806c589e66"
      },
      "execution_count": 14,
      "outputs": [
        {
          "output_type": "stream",
          "name": "stdout",
          "text": [
            "Downloading...\n",
            "From: https://drive.google.com/uc?id=1MvEDVHldxMzUyhxPR3kUjW_A7Qbt7G-C\n",
            "To: /content/candidates_method_1.csv\n",
            "\r  0% 0.00/759k [00:00<?, ?B/s]\r100% 759k/759k [00:00<00:00, 112MB/s]\n"
          ]
        }
      ]
    },
    {
      "cell_type": "code",
      "source": [
        "candidates_method_1 = pd.read_csv('candidates_method_1.csv')\n",
        "candidates_method_1.drop_duplicates(inplace=True)\n",
        "candidates_method_1.shape"
      ],
      "metadata": {
        "colab": {
          "base_uri": "https://localhost:8080/"
        },
        "id": "R2BEorSZu247",
        "outputId": "f3a2df9d-e27d-46b0-9229-57d522aff165"
      },
      "execution_count": 15,
      "outputs": [
        {
          "output_type": "execute_result",
          "data": {
            "text/plain": [
              "(140, 2)"
            ]
          },
          "metadata": {},
          "execution_count": 15
        }
      ]
    },
    {
      "cell_type": "code",
      "source": [
        "!gdown 1rQDUPpzQ7S5MOpqde2KPXQ9tL0guv4Up"
      ],
      "metadata": {
        "colab": {
          "base_uri": "https://localhost:8080/"
        },
        "id": "06Ocx0HixW7s",
        "outputId": "b924c62e-61f5-4d16-d9c4-7cdb15375722"
      },
      "execution_count": 16,
      "outputs": [
        {
          "output_type": "stream",
          "name": "stdout",
          "text": [
            "Downloading...\n",
            "From: https://drive.google.com/uc?id=1rQDUPpzQ7S5MOpqde2KPXQ9tL0guv4Up\n",
            "To: /content/candidates_method_5.csv\n",
            "\r  0% 0.00/58.9k [00:00<?, ?B/s]\r100% 58.9k/58.9k [00:00<00:00, 57.6MB/s]\n"
          ]
        }
      ]
    },
    {
      "cell_type": "code",
      "source": [
        "candidates_method_5 = pd.read_csv('candidates_method_5.csv')\n",
        "candidates_method_5.drop_duplicates(inplace=True)\n",
        "candidates_method_5.shape"
      ],
      "metadata": {
        "colab": {
          "base_uri": "https://localhost:8080/"
        },
        "id": "4B13vYJ3xWuL",
        "outputId": "20e05b10-d23d-4507-8570-a023008ee4c0"
      },
      "execution_count": 17,
      "outputs": [
        {
          "output_type": "execute_result",
          "data": {
            "text/plain": [
              "(11, 2)"
            ]
          },
          "metadata": {},
          "execution_count": 17
        }
      ]
    },
    {
      "cell_type": "code",
      "source": [
        "candidates_method_5.head()"
      ],
      "metadata": {
        "colab": {
          "base_uri": "https://localhost:8080/",
          "height": 206
        },
        "id": "cfeBdy1PymHW",
        "outputId": "72ae53a4-fd90-473f-acee-a37f5c95acbb"
      },
      "execution_count": 18,
      "outputs": [
        {
          "output_type": "execute_result",
          "data": {
            "text/plain": [
              "                              candidateId  \\\n",
              "0    4ad0d818-c2df-4d3b-8fbb-4cd78d369681   \n",
              "73   4ea9180d-fd77-42c6-920c-38f985c005d9   \n",
              "146  65737f9a-3a4e-4689-92a2-bb918c45b63b   \n",
              "221  73746ead-5370-4711-a67e-9f689e4e1f59   \n",
              "296  80bc0d17-8d83-47a0-90f9-a94c47ff8928   \n",
              "\n",
              "                            answerSheetId  \n",
              "0    10e65d13-0806-4fec-8d14-2a51b858b31e  \n",
              "73   d2436100-cb55-4454-9e76-91b411949ed2  \n",
              "146  d1dcbd25-b224-490b-8425-f1721448a325  \n",
              "221  6fb72239-f6c3-4a26-9be8-c04d0cf36f45  \n",
              "296  adc3f334-483b-4695-8ccd-68893ad31526  "
            ],
            "text/html": [
              "\n",
              "  <div id=\"df-4561fe4a-1884-4df5-a0ef-1c25b6cf8c53\" class=\"colab-df-container\">\n",
              "    <div>\n",
              "<style scoped>\n",
              "    .dataframe tbody tr th:only-of-type {\n",
              "        vertical-align: middle;\n",
              "    }\n",
              "\n",
              "    .dataframe tbody tr th {\n",
              "        vertical-align: top;\n",
              "    }\n",
              "\n",
              "    .dataframe thead th {\n",
              "        text-align: right;\n",
              "    }\n",
              "</style>\n",
              "<table border=\"1\" class=\"dataframe\">\n",
              "  <thead>\n",
              "    <tr style=\"text-align: right;\">\n",
              "      <th></th>\n",
              "      <th>candidateId</th>\n",
              "      <th>answerSheetId</th>\n",
              "    </tr>\n",
              "  </thead>\n",
              "  <tbody>\n",
              "    <tr>\n",
              "      <th>0</th>\n",
              "      <td>4ad0d818-c2df-4d3b-8fbb-4cd78d369681</td>\n",
              "      <td>10e65d13-0806-4fec-8d14-2a51b858b31e</td>\n",
              "    </tr>\n",
              "    <tr>\n",
              "      <th>73</th>\n",
              "      <td>4ea9180d-fd77-42c6-920c-38f985c005d9</td>\n",
              "      <td>d2436100-cb55-4454-9e76-91b411949ed2</td>\n",
              "    </tr>\n",
              "    <tr>\n",
              "      <th>146</th>\n",
              "      <td>65737f9a-3a4e-4689-92a2-bb918c45b63b</td>\n",
              "      <td>d1dcbd25-b224-490b-8425-f1721448a325</td>\n",
              "    </tr>\n",
              "    <tr>\n",
              "      <th>221</th>\n",
              "      <td>73746ead-5370-4711-a67e-9f689e4e1f59</td>\n",
              "      <td>6fb72239-f6c3-4a26-9be8-c04d0cf36f45</td>\n",
              "    </tr>\n",
              "    <tr>\n",
              "      <th>296</th>\n",
              "      <td>80bc0d17-8d83-47a0-90f9-a94c47ff8928</td>\n",
              "      <td>adc3f334-483b-4695-8ccd-68893ad31526</td>\n",
              "    </tr>\n",
              "  </tbody>\n",
              "</table>\n",
              "</div>\n",
              "    <div class=\"colab-df-buttons\">\n",
              "\n",
              "  <div class=\"colab-df-container\">\n",
              "    <button class=\"colab-df-convert\" onclick=\"convertToInteractive('df-4561fe4a-1884-4df5-a0ef-1c25b6cf8c53')\"\n",
              "            title=\"Convert this dataframe to an interactive table.\"\n",
              "            style=\"display:none;\">\n",
              "\n",
              "  <svg xmlns=\"http://www.w3.org/2000/svg\" height=\"24px\" viewBox=\"0 -960 960 960\">\n",
              "    <path d=\"M120-120v-720h720v720H120Zm60-500h600v-160H180v160Zm220 220h160v-160H400v160Zm0 220h160v-160H400v160ZM180-400h160v-160H180v160Zm440 0h160v-160H620v160ZM180-180h160v-160H180v160Zm440 0h160v-160H620v160Z\"/>\n",
              "  </svg>\n",
              "    </button>\n",
              "\n",
              "  <style>\n",
              "    .colab-df-container {\n",
              "      display:flex;\n",
              "      gap: 12px;\n",
              "    }\n",
              "\n",
              "    .colab-df-convert {\n",
              "      background-color: #E8F0FE;\n",
              "      border: none;\n",
              "      border-radius: 50%;\n",
              "      cursor: pointer;\n",
              "      display: none;\n",
              "      fill: #1967D2;\n",
              "      height: 32px;\n",
              "      padding: 0 0 0 0;\n",
              "      width: 32px;\n",
              "    }\n",
              "\n",
              "    .colab-df-convert:hover {\n",
              "      background-color: #E2EBFA;\n",
              "      box-shadow: 0px 1px 2px rgba(60, 64, 67, 0.3), 0px 1px 3px 1px rgba(60, 64, 67, 0.15);\n",
              "      fill: #174EA6;\n",
              "    }\n",
              "\n",
              "    .colab-df-buttons div {\n",
              "      margin-bottom: 4px;\n",
              "    }\n",
              "\n",
              "    [theme=dark] .colab-df-convert {\n",
              "      background-color: #3B4455;\n",
              "      fill: #D2E3FC;\n",
              "    }\n",
              "\n",
              "    [theme=dark] .colab-df-convert:hover {\n",
              "      background-color: #434B5C;\n",
              "      box-shadow: 0px 1px 3px 1px rgba(0, 0, 0, 0.15);\n",
              "      filter: drop-shadow(0px 1px 2px rgba(0, 0, 0, 0.3));\n",
              "      fill: #FFFFFF;\n",
              "    }\n",
              "  </style>\n",
              "\n",
              "    <script>\n",
              "      const buttonEl =\n",
              "        document.querySelector('#df-4561fe4a-1884-4df5-a0ef-1c25b6cf8c53 button.colab-df-convert');\n",
              "      buttonEl.style.display =\n",
              "        google.colab.kernel.accessAllowed ? 'block' : 'none';\n",
              "\n",
              "      async function convertToInteractive(key) {\n",
              "        const element = document.querySelector('#df-4561fe4a-1884-4df5-a0ef-1c25b6cf8c53');\n",
              "        const dataTable =\n",
              "          await google.colab.kernel.invokeFunction('convertToInteractive',\n",
              "                                                    [key], {});\n",
              "        if (!dataTable) return;\n",
              "\n",
              "        const docLinkHtml = 'Like what you see? Visit the ' +\n",
              "          '<a target=\"_blank\" href=https://colab.research.google.com/notebooks/data_table.ipynb>data table notebook</a>'\n",
              "          + ' to learn more about interactive tables.';\n",
              "        element.innerHTML = '';\n",
              "        dataTable['output_type'] = 'display_data';\n",
              "        await google.colab.output.renderOutput(dataTable, element);\n",
              "        const docLink = document.createElement('div');\n",
              "        docLink.innerHTML = docLinkHtml;\n",
              "        element.appendChild(docLink);\n",
              "      }\n",
              "    </script>\n",
              "  </div>\n",
              "\n",
              "\n",
              "<div id=\"df-d5def2c3-a740-42cd-a725-53c21962635c\">\n",
              "  <button class=\"colab-df-quickchart\" onclick=\"quickchart('df-d5def2c3-a740-42cd-a725-53c21962635c')\"\n",
              "            title=\"Suggest charts\"\n",
              "            style=\"display:none;\">\n",
              "\n",
              "<svg xmlns=\"http://www.w3.org/2000/svg\" height=\"24px\"viewBox=\"0 0 24 24\"\n",
              "     width=\"24px\">\n",
              "    <g>\n",
              "        <path d=\"M19 3H5c-1.1 0-2 .9-2 2v14c0 1.1.9 2 2 2h14c1.1 0 2-.9 2-2V5c0-1.1-.9-2-2-2zM9 17H7v-7h2v7zm4 0h-2V7h2v10zm4 0h-2v-4h2v4z\"/>\n",
              "    </g>\n",
              "</svg>\n",
              "  </button>\n",
              "\n",
              "<style>\n",
              "  .colab-df-quickchart {\n",
              "      --bg-color: #E8F0FE;\n",
              "      --fill-color: #1967D2;\n",
              "      --hover-bg-color: #E2EBFA;\n",
              "      --hover-fill-color: #174EA6;\n",
              "      --disabled-fill-color: #AAA;\n",
              "      --disabled-bg-color: #DDD;\n",
              "  }\n",
              "\n",
              "  [theme=dark] .colab-df-quickchart {\n",
              "      --bg-color: #3B4455;\n",
              "      --fill-color: #D2E3FC;\n",
              "      --hover-bg-color: #434B5C;\n",
              "      --hover-fill-color: #FFFFFF;\n",
              "      --disabled-bg-color: #3B4455;\n",
              "      --disabled-fill-color: #666;\n",
              "  }\n",
              "\n",
              "  .colab-df-quickchart {\n",
              "    background-color: var(--bg-color);\n",
              "    border: none;\n",
              "    border-radius: 50%;\n",
              "    cursor: pointer;\n",
              "    display: none;\n",
              "    fill: var(--fill-color);\n",
              "    height: 32px;\n",
              "    padding: 0;\n",
              "    width: 32px;\n",
              "  }\n",
              "\n",
              "  .colab-df-quickchart:hover {\n",
              "    background-color: var(--hover-bg-color);\n",
              "    box-shadow: 0 1px 2px rgba(60, 64, 67, 0.3), 0 1px 3px 1px rgba(60, 64, 67, 0.15);\n",
              "    fill: var(--button-hover-fill-color);\n",
              "  }\n",
              "\n",
              "  .colab-df-quickchart-complete:disabled,\n",
              "  .colab-df-quickchart-complete:disabled:hover {\n",
              "    background-color: var(--disabled-bg-color);\n",
              "    fill: var(--disabled-fill-color);\n",
              "    box-shadow: none;\n",
              "  }\n",
              "\n",
              "  .colab-df-spinner {\n",
              "    border: 2px solid var(--fill-color);\n",
              "    border-color: transparent;\n",
              "    border-bottom-color: var(--fill-color);\n",
              "    animation:\n",
              "      spin 1s steps(1) infinite;\n",
              "  }\n",
              "\n",
              "  @keyframes spin {\n",
              "    0% {\n",
              "      border-color: transparent;\n",
              "      border-bottom-color: var(--fill-color);\n",
              "      border-left-color: var(--fill-color);\n",
              "    }\n",
              "    20% {\n",
              "      border-color: transparent;\n",
              "      border-left-color: var(--fill-color);\n",
              "      border-top-color: var(--fill-color);\n",
              "    }\n",
              "    30% {\n",
              "      border-color: transparent;\n",
              "      border-left-color: var(--fill-color);\n",
              "      border-top-color: var(--fill-color);\n",
              "      border-right-color: var(--fill-color);\n",
              "    }\n",
              "    40% {\n",
              "      border-color: transparent;\n",
              "      border-right-color: var(--fill-color);\n",
              "      border-top-color: var(--fill-color);\n",
              "    }\n",
              "    60% {\n",
              "      border-color: transparent;\n",
              "      border-right-color: var(--fill-color);\n",
              "    }\n",
              "    80% {\n",
              "      border-color: transparent;\n",
              "      border-right-color: var(--fill-color);\n",
              "      border-bottom-color: var(--fill-color);\n",
              "    }\n",
              "    90% {\n",
              "      border-color: transparent;\n",
              "      border-bottom-color: var(--fill-color);\n",
              "    }\n",
              "  }\n",
              "</style>\n",
              "\n",
              "  <script>\n",
              "    async function quickchart(key) {\n",
              "      const quickchartButtonEl =\n",
              "        document.querySelector('#' + key + ' button');\n",
              "      quickchartButtonEl.disabled = true;  // To prevent multiple clicks.\n",
              "      quickchartButtonEl.classList.add('colab-df-spinner');\n",
              "      try {\n",
              "        const charts = await google.colab.kernel.invokeFunction(\n",
              "            'suggestCharts', [key], {});\n",
              "      } catch (error) {\n",
              "        console.error('Error during call to suggestCharts:', error);\n",
              "      }\n",
              "      quickchartButtonEl.classList.remove('colab-df-spinner');\n",
              "      quickchartButtonEl.classList.add('colab-df-quickchart-complete');\n",
              "    }\n",
              "    (() => {\n",
              "      let quickchartButtonEl =\n",
              "        document.querySelector('#df-d5def2c3-a740-42cd-a725-53c21962635c button');\n",
              "      quickchartButtonEl.style.display =\n",
              "        google.colab.kernel.accessAllowed ? 'block' : 'none';\n",
              "    })();\n",
              "  </script>\n",
              "</div>\n",
              "\n",
              "    </div>\n",
              "  </div>\n"
            ],
            "application/vnd.google.colaboratory.intrinsic+json": {
              "type": "dataframe",
              "variable_name": "candidates_method_5",
              "summary": "{\n  \"name\": \"candidates_method_5\",\n  \"rows\": 11,\n  \"fields\": [\n    {\n      \"column\": \"candidateId\",\n      \"properties\": {\n        \"dtype\": \"string\",\n        \"num_unique_values\": 11,\n        \"samples\": [\n          \"97c35ee0-131a-4229-a488-a9e02475b574\",\n          \"4ad0d818-c2df-4d3b-8fbb-4cd78d369681\",\n          \"d60096c5-0797-4ca0-9fff-aaa4c3ddc3f4\"\n        ],\n        \"semantic_type\": \"\",\n        \"description\": \"\"\n      }\n    },\n    {\n      \"column\": \"answerSheetId\",\n      \"properties\": {\n        \"dtype\": \"string\",\n        \"num_unique_values\": 11,\n        \"samples\": [\n          \"ef923be0-c032-4f23-8425-5fc94224537b\",\n          \"10e65d13-0806-4fec-8d14-2a51b858b31e\",\n          \"6937b4f4-912c-4c8e-8781-59783cbae31e\"\n        ],\n        \"semantic_type\": \"\",\n        \"description\": \"\"\n      }\n    }\n  ]\n}"
            }
          },
          "metadata": {},
          "execution_count": 18
        }
      ]
    },
    {
      "cell_type": "code",
      "source": [
        "!gdown 1--17oh_mUME_4ESqlkAkzY9wOW5SNdPD\n",
        "!gdown 1-1BSrDlMxY-tmZ7mfnVk5wTAjnPcbjnL\n",
        "!gdown 15oP2ZydzxWTUgFgwCDJNX8h4Y4wsuBtN"
      ],
      "metadata": {
        "colab": {
          "base_uri": "https://localhost:8080/"
        },
        "id": "8bewdFlK062J",
        "outputId": "6dd6e9b6-c0dd-4334-983b-f82d77df2c06"
      },
      "execution_count": 19,
      "outputs": [
        {
          "output_type": "stream",
          "name": "stdout",
          "text": [
            "Downloading...\n",
            "From: https://drive.google.com/uc?id=1--17oh_mUME_4ESqlkAkzY9wOW5SNdPD\n",
            "To: /content/unique_candidate_cheaters_clusters_ids_df.csv\n",
            "100% 51.0/51.0 [00:00<00:00, 192kB/s]\n",
            "Downloading...\n",
            "From: https://drive.google.com/uc?id=1-1BSrDlMxY-tmZ7mfnVk5wTAjnPcbjnL\n",
            "To: /content/unique_candidate_cheaters_dbscan_ids_df.csv\n",
            "100% 1.90k/1.90k [00:00<00:00, 8.14MB/s]\n",
            "Downloading...\n",
            "From: https://drive.google.com/uc?id=15oP2ZydzxWTUgFgwCDJNX8h4Y4wsuBtN\n",
            "To: /content/unique_candidate_cheaters_ml_filtered_ids_df.csv\n",
            "100% 4.82k/4.82k [00:00<00:00, 13.1MB/s]\n"
          ]
        }
      ]
    },
    {
      "cell_type": "code",
      "source": [
        "answersheets_clustering = pd.read_csv('unique_candidate_cheaters_clusters_ids_df.csv')\n",
        "answersheets_clustering.shape"
      ],
      "metadata": {
        "colab": {
          "base_uri": "https://localhost:8080/"
        },
        "id": "1Lk2o8MuoqsB",
        "outputId": "aa93f86d-ca6b-4c56-babb-563ae4779db2"
      },
      "execution_count": 20,
      "outputs": [
        {
          "output_type": "execute_result",
          "data": {
            "text/plain": [
              "(1, 1)"
            ]
          },
          "metadata": {},
          "execution_count": 20
        }
      ]
    },
    {
      "cell_type": "code",
      "source": [
        "\n",
        "\n",
        "answersheets_ml = pd.read_csv('unique_candidate_cheaters_ml_filtered_ids_df.csv')\n",
        "answersheets_ml.shape"
      ],
      "metadata": {
        "colab": {
          "base_uri": "https://localhost:8080/"
        },
        "id": "jH-gSFaRopcj",
        "outputId": "f182cb0e-177d-4c85-d8b7-dc60624de733"
      },
      "execution_count": 21,
      "outputs": [
        {
          "output_type": "execute_result",
          "data": {
            "text/plain": [
              "(130, 1)"
            ]
          },
          "metadata": {},
          "execution_count": 21
        }
      ]
    },
    {
      "cell_type": "code",
      "source": [
        "\n",
        "\n",
        "answersheets_dbscan = pd.read_csv('unique_candidate_cheaters_dbscan_ids_df.csv')\n",
        "answersheets_dbscan.shape"
      ],
      "metadata": {
        "colab": {
          "base_uri": "https://localhost:8080/"
        },
        "id": "wZl12FPL1lXS",
        "outputId": "3da8ed3a-265c-46d5-a1cb-dc95a24da0bb"
      },
      "execution_count": 22,
      "outputs": [
        {
          "output_type": "execute_result",
          "data": {
            "text/plain": [
              "(51, 1)"
            ]
          },
          "metadata": {},
          "execution_count": 22
        }
      ]
    },
    {
      "cell_type": "markdown",
      "source": [
        "## **Find common answersheets**"
      ],
      "metadata": {
        "id": "VXg0jZdvy3WI"
      }
    },
    {
      "cell_type": "code",
      "execution_count": 28,
      "metadata": {
        "colab": {
          "base_uri": "https://localhost:8080/"
        },
        "id": "fWAiv5-Ua5sJ",
        "outputId": "a9315178-0a32-4fb5-836f-0e758ac6c715"
      },
      "outputs": [
        {
          "output_type": "stream",
          "name": "stdout",
          "text": [
            "                            answerSheetId  flagged_by_1  flagged_by_2  \\\n",
            "104  6bbfed12-f0f6-4398-8afd-d458341fba3f             1             0   \n",
            "427  387a5311-d05d-48be-8b27-922727fb35d7             1             1   \n",
            "493  10e65d13-0806-4fec-8d14-2a51b858b31e             0             1   \n",
            "\n",
            "     flagged_by_3  flagged_by_5  flagged_by_clustering  flagged_by_ml  \\\n",
            "104             1             0                      0              1   \n",
            "427             0             0                      0              1   \n",
            "493             1             1                      0              0   \n",
            "\n",
            "     flagged_by_dbscan  total_flags  \n",
            "104                  1            4  \n",
            "427                  1            4  \n",
            "493                  1            4  \n",
            "Final Set of Cheaters' IDs and Corresponding answersheetIds (Flagged by Multiple Methods):\n",
            "                                candidateId  \\\n",
            "0      0005c95f-814b-4117-8065-f25c33f1e712   \n",
            "11568  323b46e3-55c1-416c-ba1f-2ae58d2e67ad   \n",
            "16967  4ad0d818-c2df-4d3b-8fbb-4cd78d369681   \n",
            "\n",
            "                              answerSheetId  \n",
            "0      6bbfed12-f0f6-4398-8afd-d458341fba3f  \n",
            "11568  387a5311-d05d-48be-8b27-922727fb35d7  \n",
            "16967  10e65d13-0806-4fec-8d14-2a51b858b31e  \n",
            "Number of final cheaters: 3\n",
            "Number of final answersheets: 3\n",
            "Percentage of final cheaters: 0.37%\n",
            "Percentage of final answersheets: 0.30%\n"
          ]
        }
      ],
      "source": [
        "# Convert all answersheetIds lists to standard Python lists\n",
        "answersheetIds_1 = list(candidates_method_1['answerSheetId'])\n",
        "answersheetIds_2 = list(candidates_method_2['answerSheetId'])\n",
        "answersheetIds_3 = list(candidates_method_3['answerSheetId'])\n",
        "answersheetIds_5 = list(candidates_method_5['answerSheetId'])\n",
        "\n",
        "answersheetIds_clustering = list(answersheets_clustering['answerSheetId'])\n",
        "answersheetIds_ml = list(answersheets_ml['answerSheetId'])\n",
        "answersheetIds_dbscan = list(answersheets_dbscan['answerSheetId'])\n",
        "\n",
        "# Get the unique answersheetIds from all methods\n",
        "all_unique_answersheetIds = list(set(answersheetIds_1 + answersheetIds_2 + answersheetIds_3 + answersheetIds_5  + answersheetIds_ml + answersheetIds_dbscan + answersheetIds_clustering))\n",
        "\n",
        "# Combine all answersheetIds into a single DataFrame\n",
        "all_cheaters_df = pd.DataFrame({\n",
        "    'answerSheetId': all_unique_answersheetIds,\n",
        "    'flagged_by_1': [1 if i in answersheetIds_1 else 0 for i in all_unique_answersheetIds],\n",
        "    'flagged_by_2': [1 if i in answersheetIds_2 else 0 for i in all_unique_answersheetIds],\n",
        "    'flagged_by_3': [1 if i in answersheetIds_3 else 0 for i in all_unique_answersheetIds],\n",
        "    'flagged_by_5': [1 if i in answersheetIds_5 else 0 for i in all_unique_answersheetIds],\n",
        "    'flagged_by_clustering': [1 if i in answersheetIds_clustering else 0 for i in all_unique_answersheetIds],\n",
        "    'flagged_by_ml': [1 if i in answersheetIds_ml else 0 for i in all_unique_answersheetIds],\n",
        "    'flagged_by_dbscan': [1 if i in answersheetIds_dbscan else 0 for i in all_unique_answersheetIds]\n",
        "})\n",
        "\n",
        "# Calculate how many times each answersheet was flagged\n",
        "all_cheaters_df['total_flags'] = all_cheaters_df[['flagged_by_1', 'flagged_by_2', 'flagged_by_3',  'flagged_by_5',  'flagged_by_ml', 'flagged_by_clustering', 'flagged_by_dbscan']].sum(axis=1)\n",
        "\n",
        "# Identify answersheets flagged by at least 4 methods\n",
        "multi_flagged_cheaters = all_cheaters_df[all_cheaters_df['total_flags'] >= 4]\n",
        "\n",
        "# what flags have these multi_flagged_cheaters\n",
        "print(multi_flagged_cheaters)\n",
        "\n",
        "# Get the final set of cheaters' candidateIds and answersheetIds\n",
        "final_cheaters_multi = final_df[final_df['answerSheetId'].isin(multi_flagged_cheaters['answerSheetId'])][['candidateId', 'answerSheetId']].drop_duplicates()\n",
        "\n",
        "# Calculate statistics for the final set of cheaters flagged by multiple methods\n",
        "num_final_cheaters_multi = final_cheaters_multi['candidateId'].nunique()\n",
        "num_final_answersheets_multi = len(multi_flagged_cheaters)\n",
        "total_candidates = final_df['candidateId'].nunique()\n",
        "total_answersheets = final_df['answerSheetId'].nunique()\n",
        "\n",
        "percentage_final_cheaters_multi = (num_final_cheaters_multi / total_candidates) * 100\n",
        "percentage_final_answersheets_multi = (num_final_answersheets_multi / total_answersheets) * 100\n",
        "\n",
        "# Print out the final results from the multiple method analysis\n",
        "print(\"Final Set of Cheaters' IDs and Corresponding answersheetIds (Flagged by Multiple Methods):\")\n",
        "print(final_cheaters_multi)\n",
        "print(f\"Number of final cheaters: {num_final_cheaters_multi}\")\n",
        "print(f\"Number of final answersheets: {num_final_answersheets_multi}\")\n",
        "print(f\"Percentage of final cheaters: {percentage_final_cheaters_multi:.2f}%\")\n",
        "print(f\"Percentage of final answersheets: {percentage_final_answersheets_multi:.2f}%\")"
      ]
    }
  ],
  "metadata": {
    "colab": {
      "provenance": [],
      "include_colab_link": true
    },
    "kernelspec": {
      "display_name": "Python 3",
      "name": "python3"
    },
    "language_info": {
      "name": "python"
    }
  },
  "nbformat": 4,
  "nbformat_minor": 0
}