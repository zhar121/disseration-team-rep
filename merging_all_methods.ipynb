{
  "cells": [
    {
      "cell_type": "markdown",
      "metadata": {
        "id": "gOVP9otGL5_8"
      },
      "source": [
        "## **Load data**"
      ]
    },
    {
      "cell_type": "code",
      "execution_count": null,
      "metadata": {
        "colab": {
          "base_uri": "https://localhost:8080/"
        },
        "id": "F1Jmewp1vUxu",
        "outputId": "8e88c2ee-8d9b-4cce-f0bd-260761f6aabc"
      },
      "outputs": [
        {
          "output_type": "stream",
          "name": "stdout",
          "text": [
            "Downloading...\n",
            "From: https://drive.google.com/uc?id=1Pk3YtpgeaAF3EAEb5vZvzsz68SBITEwZ\n",
            "To: /content/final_df.csv\n",
            "100% 16.8M/16.8M [00:00<00:00, 93.5MB/s]\n"
          ]
        }
      ],
      "source": [
        "import pandas as pd\n",
        "!gdown 1Pk3YtpgeaAF3EAEb5vZvzsz68SBITEwZ"
      ]
    },
    {
      "cell_type": "code",
      "execution_count": null,
      "metadata": {
        "id": "_kViNLx9tFVa"
      },
      "outputs": [],
      "source": [
        "final_df = pd.read_csv('final_df.csv')"
      ]
    },
    {
      "cell_type": "code",
      "execution_count": null,
      "metadata": {
        "colab": {
          "base_uri": "https://localhost:8080/"
        },
        "id": "MZyphLqDOQba",
        "outputId": "c2217f37-e611-4ead-9c31-2cb8ea0337ce"
      },
      "outputs": [
        {
          "output_type": "execute_result",
          "data": {
            "text/plain": [
              "(60514, 16)"
            ]
          },
          "metadata": {},
          "execution_count": 3
        }
      ],
      "source": [
        "final_df.shape"
      ]
    },
    {
      "cell_type": "code",
      "execution_count": null,
      "metadata": {
        "colab": {
          "base_uri": "https://localhost:8080/"
        },
        "id": "7z4FB3KS2wu8",
        "outputId": "4cbf1965-f321-4bd1-87ff-1ab8ee4fc96e"
      },
      "outputs": [
        {
          "output_type": "execute_result",
          "data": {
            "text/plain": [
              "Index(['paperId', 'questionId', 'candidateId', 'answerSheetId', 'answer_score',\n",
              "       'maxScore', 'answeredCorrectly', 'Difficulty', 'firstSeenAt',\n",
              "       'lastAnsweredAt', 'ResponseTime', 'Expected response time',\n",
              "       'SequenceOrder', 'TotalTestingTime', 'IpAddress', 'ExamScore'],\n",
              "      dtype='object')"
            ]
          },
          "metadata": {},
          "execution_count": 4
        }
      ],
      "source": [
        "final_df.columns"
      ]
    },
    {
      "cell_type": "markdown",
      "metadata": {
        "id": "Ae784KGlLqUu"
      },
      "source": [
        "# **1. Aberrance detection based on the difficulty of questions**"
      ]
    },
    {
      "cell_type": "code",
      "execution_count": null,
      "metadata": {
        "colab": {
          "base_uri": "https://localhost:8080/"
        },
        "id": "D06LZog8vDnf",
        "outputId": "e8a78935-c969-4d99-fbc5-b44f2842b2dc"
      },
      "outputs": [
        {
          "output_type": "stream",
          "name": "stdout",
          "text": [
            "Number of potential cheaters: 140\n",
            "Number of potential answerSheets: 140\n",
            "Percentage of potential cheaters: 17.20%\n",
            "Percentage of potential answerSheets: 13.86%\n"
          ]
        }
      ],
      "source": [
        "# Load the data\n",
        "data1 = final_df[['paperId', 'candidateId', 'Difficulty', 'answer_score', 'maxScore', 'answeredCorrectly', 'answerSheetId']]\n",
        "\n",
        "# Group by answerSheetId and Difficulty\n",
        "grouped = data1.groupby(['answerSheetId', 'Difficulty'])\n",
        "\n",
        "# Calculate the correctness rate of each student at each difficulty level\n",
        "difficulty_performance = grouped['answeredCorrectly'].mean().reset_index()\n",
        "difficulty_performance.rename(columns={'answeredCorrectly': 'answeredCorrectly_mean'}, inplace=True)\n",
        "\n",
        "# Merge back to the original data\n",
        "data1 = data1.merge(difficulty_performance, on=['answerSheetId', 'Difficulty'])\n",
        "\n",
        "# Adjust thresholds for high and low difficulty questions\n",
        "high_difficulty_threshold = 0.8  # High difficulty level threshold\n",
        "low_difficulty_threshold = 0.2   # Low difficulty level threshold\n",
        "\n",
        "# Find students who performed well on high-difficulty questions\n",
        "high_difficulty_good_performance = data1[(data1['Difficulty'] > high_difficulty_threshold) & (data1['answeredCorrectly'] == 1)]\n",
        "\n",
        "# Find students who performed poorly on low-difficulty questions\n",
        "low_difficulty_poor_performance = data1[(data1['Difficulty'] < low_difficulty_threshold) & (data1['answeredCorrectly'] == 0)]\n",
        "\n",
        "# Find the intersection of the two sets of students\n",
        "potential_cheaters_1 = high_difficulty_good_performance.merge(low_difficulty_poor_performance, on='answerSheetId', suffixes=('_high', '_low'))\n",
        "\n",
        "# Get unique cheater answerSheetIds\n",
        "answersheet_Ids_1 = potential_cheaters_1['answerSheetId'].unique()\n",
        "\n",
        "# Get the potential cheaters' IDs and corresponding answerSheetIds\n",
        "potential_cheaters = data1[data1['answerSheetId'].isin(answersheet_Ids_1)][['candidateId', 'answerSheetId']].drop_duplicates()\n",
        "\n",
        "# Calculate the number of potential cheaters and the number of potential answerSheets\n",
        "num_potential_cheaters = potential_cheaters['candidateId'].nunique()\n",
        "num_potential_answersheets = len(answersheet_Ids_1)\n",
        "\n",
        "# Calculate the total number of unique candidates and answerSheets\n",
        "total_candidates = data1['candidateId'].nunique()\n",
        "total_answersheets = data1['answerSheetId'].nunique()\n",
        "\n",
        "# Calculate the percentage of potential cheaters and potential answerSheets\n",
        "percentage_potential_cheaters = (num_potential_cheaters / total_candidates) * 100\n",
        "percentage_potential_answersheets = (num_potential_answersheets / total_answersheets) * 100\n",
        "\n",
        "# Print out the results\n",
        "print(f\"Number of potential cheaters: {num_potential_cheaters}\")\n",
        "print(f\"Number of potential answerSheets: {num_potential_answersheets}\")\n",
        "print(f\"Percentage of potential cheaters: {percentage_potential_cheaters:.2f}%\")\n",
        "print(f\"Percentage of potential answerSheets: {percentage_potential_answersheets:.2f}%\")"
      ]
    },
    {
      "cell_type": "markdown",
      "metadata": {
        "id": "rEtF8vgrCfF0"
      },
      "source": [
        "## **2. Aberrance detection based on the response time of questions**"
      ]
    },
    {
      "cell_type": "code",
      "execution_count": null,
      "metadata": {
        "colab": {
          "base_uri": "https://localhost:8080/"
        },
        "id": "xOwvm_K40DuQ",
        "outputId": "7567d558-0041-4812-b9e9-4a9d1736eceb"
      },
      "outputs": [
        {
          "output_type": "stream",
          "name": "stdout",
          "text": [
            "['6bbfed12-f0f6-4398-8afd-d458341fba3f'\n",
            " '7347e573-9cf6-41ca-97a7-6fb979939f5b'\n",
            " 'aa93b23a-ed23-496d-905a-f7fced181d8c'\n",
            " '3da10398-b038-4eee-9247-523853c67cd6'\n",
            " '24ba9117-7c1f-42e4-b3ff-73244c7e863f'\n",
            " 'c2cb8c59-e3d2-464c-84ba-77d7050aea1d'\n",
            " 'd6257b1c-4e59-47e3-b4ed-d615a4f58bea'\n",
            " '420e94a7-4700-4dba-ac73-be6d1412db7e'\n",
            " '3b4b2223-8acb-44fe-8e75-1e9380a094fc'\n",
            " '9a3c47f1-22ad-474c-bc74-b8ebe64f7493'\n",
            " 'dcdbc3b2-0e7c-46c5-ab5e-b23d13bc21b0'\n",
            " '1a7b5864-c1ea-48c7-8195-a4472af946f6'\n",
            " '82493630-d9bd-4092-85f7-5e765d45992e'\n",
            " 'd7a6779f-c922-4dbc-ba61-70e1498e131b'\n",
            " '31124455-b96f-44fa-a133-5130268b492e'\n",
            " '7408f5c4-6f57-4bd6-a81e-214000148b1f'\n",
            " '88345f3a-18b0-43f1-bf73-c77383fb712e'\n",
            " '7868c97b-6590-43fa-9acd-b42ef8203f04'\n",
            " '970fb573-7e19-40a6-8137-62f358032cb8'\n",
            " 'df227cea-1dfc-4b6f-9108-b7d24ecdfd35'\n",
            " 'f72b1e2c-7300-4742-a9b6-811232aaacce'\n",
            " '7a9302b6-21f3-4a29-9ff3-a22e4e0e4ef2'\n",
            " '4bdc6936-1779-4b18-8865-a31e80ed9a16'\n",
            " '67e9f6a6-9ea0-4fd6-a235-4dd23cebd7a3'\n",
            " 'baeafddf-cf76-4a30-827a-b7dd61059738'\n",
            " '92ff53c8-6bc6-4e97-8e1c-7622972b0c3e'\n",
            " '32f6364f-3d6a-4cf9-bef7-53bbad3d30fa'\n",
            " '387a5311-d05d-48be-8b27-922727fb35d7'\n",
            " '7894fb4a-70af-4966-823b-f12dce5441cd'\n",
            " 'dc9bca0e-1501-443c-95d7-3e6db5aeeaea'\n",
            " '34a08bf6-5457-4998-aa59-caffca5b9395'\n",
            " '969af726-bf5a-4621-bafd-3c33237bdf7b'\n",
            " '7c0ced2c-2be9-4aa8-af13-27b245dd2451'\n",
            " '89936035-b592-4edf-9bb2-4b4f01530236'\n",
            " '8edd1713-219c-42a6-9c35-16bd58965a8f'\n",
            " '938501d7-b188-4ff8-9177-928bf66014cf'\n",
            " '66a9c0f8-c16d-4a96-b71e-623dafffd485'\n",
            " '6c6d82f9-f89b-481d-8022-a4d58bb6cd47'\n",
            " '779d38b5-e1db-4367-9fed-cd1b1267de97'\n",
            " '18b51c7d-456b-4784-9568-f3718f1a7a48'\n",
            " '27808b10-f08b-4030-ab48-1e330ee495ac'\n",
            " '475953f0-2c6a-4c2e-8bfc-cbe3b7090b0c'\n",
            " '976d093b-f279-41e8-91b3-5d194d5d0563'\n",
            " '2a71bb74-1ed0-4441-a382-a8a9ef8722e4'\n",
            " 'fd6c61c0-0430-4435-9ee5-4357d7db765e'\n",
            " 'b8f8c731-60b0-4652-85df-0557446ea809'\n",
            " '63b3f4df-fd2d-4fe9-ade5-63b4d546ef4f'\n",
            " '0d9b70f6-195b-4f90-b3ca-d0b146cbd28f'\n",
            " '104be10e-ddfc-4e63-804c-c5c8f37f973d'\n",
            " '9856a278-8a68-4ca1-8beb-f6af9d5438d0'\n",
            " '209c763f-6c54-4fe7-a7e6-85acdc0d2bad'\n",
            " '54e1d7ba-52c7-4aba-a35a-1122c20e9c70'\n",
            " 'd1dcbd25-b224-490b-8425-f1721448a325'\n",
            " '87ddeb93-66ef-49bb-9c99-76f219da0472'\n",
            " '8fb2e53b-e7c7-435b-8dd6-90aecff7b115'\n",
            " '53675f97-03be-4d64-828d-e2ffa3cfcd11'\n",
            " '3652798b-9980-4423-b49f-9589f653c02f'\n",
            " '011dc53e-ab6d-467d-85a5-8ecedc20ff24'\n",
            " '9756dacc-ec54-4b02-8362-738405d41f6b'\n",
            " '4cb030d3-a153-4fe1-9de3-488408bca33a'\n",
            " 'd3591efd-f40e-4b4c-962b-fe9b933db2b5'\n",
            " 'cbc16231-4f0a-4085-9d16-998c42cd7bf2'\n",
            " 'c9357dca-1d72-4ce9-afd2-73b7517ba3a6'\n",
            " '5df0e3eb-96ae-4066-8a6f-3aa9059f77fd'\n",
            " '68b258ab-1788-4eca-b3c2-cfe76e7af134'\n",
            " '438a3332-4588-400e-a531-9e35f6b67b0d'\n",
            " '0ae6cff4-c516-4dc2-ac59-3f074104f059'\n",
            " 'a355c62e-68f1-48a9-ad8a-ec44148d83fe'\n",
            " '275cf85f-3f56-429e-9ffa-27af1fdf9dc6'\n",
            " '0c668922-2051-4dd7-9ee4-5ddbf97bebc3'\n",
            " 'adc3f334-483b-4695-8ccd-68893ad31526'\n",
            " 'c617cfff-4444-4394-b08d-ec559838c90b'\n",
            " '35e07cf2-7d98-4631-a02d-0c323bae373e'\n",
            " '11faf7e6-3d82-46a3-a846-fcb703d23976'\n",
            " '9ac1652b-f44c-464d-a11c-de281507e23a'\n",
            " '60fbdf42-ea20-471a-b7a9-8bab40fc5fee'\n",
            " '687a8a8f-5f0b-4168-b79a-88927172c66e'\n",
            " '4d9096d6-fc4a-497b-a32e-73ddf3b72c22'\n",
            " '87574858-9559-4438-973c-7000d606af26'\n",
            " '2fa55489-3fdd-476b-82f3-182e5005a561'\n",
            " '049eee6e-562f-4b40-b63a-3ce40bb5fbb6'\n",
            " '0b92b19b-b674-420b-9199-7378629553a3'\n",
            " 'c6131f26-0e9d-48dc-8ad8-d27824490cf7'\n",
            " 'bf8cb1b7-2b96-4a9a-bdbb-fb73a4d41f3b'\n",
            " 'e7cedd64-5a60-4303-a10b-65653dc3fffd'\n",
            " '0a23ca23-b40c-4836-a81f-fd7faf3feb45'\n",
            " 'e453bd3c-a616-4a7a-b550-71a65e63c5d9'\n",
            " '50175d54-2a4c-4688-a4b5-32044c26f7d6'\n",
            " 'ef923be0-c032-4f23-8425-5fc94224537b'\n",
            " '8cce8935-6e49-4233-b223-aea812090a92'\n",
            " '3b31eba2-cc30-42a3-8389-a9cf38a0ab2d'\n",
            " '72c1b469-fdae-4435-a379-77377fb5e628'\n",
            " '12fc9dbf-cd99-459f-b00f-500586dcf7f1'\n",
            " '174b73a3-2cc3-4535-a5fe-4225e0798d95'\n",
            " '27d388a8-9f65-4e5d-a73a-232b9fd8c1cb'\n",
            " '25e4b154-db07-4b96-a147-e578bc3ab644'\n",
            " '720e46b9-4ddc-4ae2-ac82-8eab1e111bb2'\n",
            " '072f1161-b128-47c5-8b17-7a504a10481d'\n",
            " '0b5589c6-9dc2-4a24-a76e-c0090edcaa7c'\n",
            " 'f0aaa559-25ea-4a8c-955b-925991a7ab87'\n",
            " 'ba8f4e61-8d96-4ca4-8e24-61288bd31e05'\n",
            " '44ec6322-893b-40f0-86d2-720609a904d9'\n",
            " '2d553544-5cbb-42e6-b9f1-2598f5b5b7ad'\n",
            " 'e95c18be-d919-466e-a59f-7b8a9a581a2c'\n",
            " '2eb8545b-9812-4368-8c8c-66f896f43652'\n",
            " 'd05b6e33-57e9-4f4d-9f65-073792f7f6cf'\n",
            " '00323239-ae04-4c49-9ac8-98e9c8a8130a'\n",
            " '6786f637-339e-4b0d-b135-f6321f5c1b72'\n",
            " '2547a6d7-e863-4754-a2ba-41d1ff611415'\n",
            " 'f7c05d9f-7cf0-4c87-a83d-323cdd585300'\n",
            " '2e567b3d-14ad-4ee9-847b-b3d650d6240f'\n",
            " 'f64c050c-3ec3-46d6-8795-ed03cc907343'\n",
            " '21151c60-86c5-4235-bb13-92cf2df6b959'\n",
            " '21f6e3ee-1098-43ac-b46f-57e81d764c35'\n",
            " '9baf516c-f91c-42b2-a78e-1e3f9190ae76'\n",
            " '18d1982b-e10d-4838-a268-c94b53158461'\n",
            " '789ac6e9-0aa6-4081-884e-73d2789ae738'\n",
            " 'bfdf8ce9-32b4-427a-a693-b13fd2fa2805'\n",
            " 'f2288332-cf54-404a-a806-fabe45cc3d0b'\n",
            " '5acf5428-c301-4e50-8c30-d6ad015b7392'\n",
            " '38fddffb-6a3b-4036-9304-fbe94a3fdcfd'\n",
            " '852bf4ed-3d8b-4dcf-9744-a7cef36490c2'\n",
            " '91de943e-a4e7-43fd-b524-a397a07c2d15'\n",
            " '3d04769a-d439-4cc6-9c45-fdc2ab0dd547'\n",
            " 'f4ca729a-7483-49eb-8a1d-f455b4681879'\n",
            " 'd3eb339f-3d34-47bd-a3f0-f613bd64a119'\n",
            " '8ed1bf4b-6843-491c-bc73-7ec7419da1c4'\n",
            " '4d45c031-fcbc-4d16-b614-51a8c5df2464'\n",
            " '4d2bca3b-219c-4a5a-8c9a-6600c8da84f9'\n",
            " '5d9019f9-f9bc-4129-95b8-8144d5b4c864'\n",
            " 'd064fc14-0856-45ee-ba21-55f2bbbdbe7b'\n",
            " 'ddbbad2e-8ec6-4ff2-80e0-3f6c0be5bdb2'\n",
            " '63279636-82cc-43fe-82bc-77e9f6376503'\n",
            " '062b18c5-ab32-4d21-9c39-a6719ed992c3'\n",
            " '98af9f3c-3bbf-4e88-bda4-4657f1babe4a'\n",
            " 'a3f1bc60-4bec-4d0b-a977-7921aa58b221'\n",
            " '51c3736b-7b97-4720-bc69-0e26c80700fe'\n",
            " '7a99dc96-96d8-451a-8b15-80be012d5cfa'\n",
            " '57fc7f94-d083-477d-bfa5-327abda33836'\n",
            " '6fb8974b-d87b-4470-9edd-0e14b1c5a350']\n",
            "                                candidateId  \\\n",
            "0      0005c95f-814b-4117-8065-f25c33f1e712   \n",
            "161    0188ea31-5191-4bcd-b79d-d361e85d9501   \n",
            "542    035898c3-bb6f-4f2f-bc64-b05caf7ff160   \n",
            "1896   06db025e-81bc-480a-b26d-e11f48f5ff0a   \n",
            "2419   09f28a18-d1cb-4be8-a5ab-747be7ad6af6   \n",
            "...                                     ...   \n",
            "56815  ecd1fa73-dd02-4ea0-a269-b07dcd218a90   \n",
            "57712  f335913d-b91f-4745-8b18-d226ae0d906f   \n",
            "58313  f56f0065-0c4e-45fd-ba41-d3b56c84649d   \n",
            "58611  f6c521a7-e7b8-4e07-aa64-fcc02494e41f   \n",
            "60441  ffff87dd-42c5-4479-acc7-acb6f1e45b17   \n",
            "\n",
            "                              answerSheetId  \n",
            "0      6bbfed12-f0f6-4398-8afd-d458341fba3f  \n",
            "161    7347e573-9cf6-41ca-97a7-6fb979939f5b  \n",
            "542    aa93b23a-ed23-496d-905a-f7fced181d8c  \n",
            "1896   3da10398-b038-4eee-9247-523853c67cd6  \n",
            "2419   24ba9117-7c1f-42e4-b3ff-73244c7e863f  \n",
            "...                                     ...  \n",
            "56815  a3f1bc60-4bec-4d0b-a977-7921aa58b221  \n",
            "57712  51c3736b-7b97-4720-bc69-0e26c80700fe  \n",
            "58313  7a99dc96-96d8-451a-8b15-80be012d5cfa  \n",
            "58611  57fc7f94-d083-477d-bfa5-327abda33836  \n",
            "60441  6fb8974b-d87b-4470-9edd-0e14b1c5a350  \n",
            "\n",
            "[140 rows x 2 columns]\n",
            "Number of potential cheaters: 215\n",
            "Number of potential answerSheets: 217\n",
            "Percentage of potential cheaters: 26.41%\n",
            "Percentage of potential answerSheets: 21.49%\n"
          ]
        },
        {
          "output_type": "stream",
          "name": "stderr",
          "text": [
            "<ipython-input-7-c7f7a4d7729f>:5: SettingWithCopyWarning: \n",
            "A value is trying to be set on a copy of a slice from a DataFrame.\n",
            "Try using .loc[row_indexer,col_indexer] = value instead\n",
            "\n",
            "See the caveats in the documentation: https://pandas.pydata.org/pandas-docs/stable/user_guide/indexing.html#returning-a-view-versus-a-copy\n",
            "  data2['response_time_deviation'] = data2['ResponseTime'] - data2['Expected response time']\n"
          ]
        }
      ],
      "source": [
        "# Load the data\n",
        "data2 = final_df[['paperId', 'questionId', 'candidateId', 'ResponseTime', 'Expected response time', 'Difficulty', 'answerSheetId']]\n",
        "\n",
        "# Calculate the deviation of response time from expected response time\n",
        "data2['response_time_deviation'] = data2['ResponseTime'] - data2['Expected response time']\n",
        "\n",
        "# Group by questionId calculate mean and standard deviation of response time deviation\n",
        "grouped = data2.groupby(['questionId'])\n",
        "\n",
        "# Calculate mean and standard deviation of response time deviation for each question\n",
        "response_time_stats = grouped['response_time_deviation'].agg(['mean', 'std']).reset_index()\n",
        "\n",
        "# Merge stats back to original data\n",
        "data2 = data2.merge(response_time_stats, on=['questionId'], suffixes=('', '_mean'))\n",
        "\n",
        "# Define a stricter threshold for abnormal response times (4 standard deviations)\n",
        "threshold = 4\n",
        "\n",
        "# Identify potential cheaters with stricter threshold\n",
        "data2['is_cheater'] = abs(data2['response_time_deviation']) > (threshold * data2['std'])\n",
        "\n",
        "# Get unique cheater answerSheetIds\n",
        "answersheet_Ids_2 = data2[data2['is_cheater']]['answerSheetId'].unique()\n",
        "\n",
        "# Get the potential cheaters' IDs and corresponding answerSheetIds\n",
        "potential_cheaters_2 = data2[data2['answerSheetId'].isin(answersheet_Ids_2)][['candidateId', 'answerSheetId']].drop_duplicates()\n",
        "\n",
        "# Calculate the number of potential cheaters and the number of potential answerSheets\n",
        "num_potential_cheaters_2 = potential_cheaters_2['candidateId'].nunique()\n",
        "num_potential_answersheets_2 = len(answersheet_Ids_2)\n",
        "\n",
        "# Calculate the total number of unique candidates and answerSheets\n",
        "total_candidates_2 = data2['candidateId'].nunique()\n",
        "total_answersheets_2 = data2['answerSheetId'].nunique()\n",
        "\n",
        "# Calculate the percentage of potential cheaters and potential answerSheets\n",
        "percentage_potential_cheaters_2 = (num_potential_cheaters_2 / total_candidates_2) * 100\n",
        "percentage_potential_answersheets_2 = (num_potential_answersheets_2 / total_answersheets_2) * 100\n",
        "\n",
        "# Print out the results\n",
        "print(answersheet_Ids_1)\n",
        "print(potential_cheaters)\n",
        "print(f\"Number of potential cheaters: {num_potential_cheaters_2}\")\n",
        "print(f\"Number of potential answerSheets: {num_potential_answersheets_2}\")\n",
        "print(f\"Percentage of potential cheaters: {percentage_potential_cheaters_2:.2f}%\")\n",
        "print(f\"Percentage of potential answerSheets: {percentage_potential_answersheets_2:.2f}%\")"
      ]
    },
    {
      "cell_type": "markdown",
      "metadata": {
        "id": "-vHzUw94RZ09"
      },
      "source": [
        "### **3. Cosine Similarity-Based Collusion Detection**"
      ]
    },
    {
      "cell_type": "code",
      "source": [
        "import pandas as pd\n",
        "import numpy as np\n",
        "from scipy.spatial.distance import pdist, squareform\n",
        "\n",
        "# Load the data\n",
        "data3 = final_df\n",
        "\n",
        "# Select relevant variables\n",
        "data3 = data3[['paperId', 'questionId', 'candidateId', 'answeredCorrectly', 'answerSheetId']]\n",
        "\n",
        "# Create a pivot table with students as rows and questions as columns\n",
        "pivot_table = data3.pivot_table(\n",
        "    index='answerSheetId', columns='questionId', values='answeredCorrectly', fill_value=0\n",
        ")\n",
        "\n",
        "# Compute pairwise cosine similarity between students\n",
        "similarity_matrix = 1 - squareform(pdist(pivot_table, metric='cosine'))\n",
        "\n",
        "# Create a DataFrame for the similarity matrix\n",
        "similarity_df = pd.DataFrame(similarity_matrix, index=pivot_table.index, columns=pivot_table.index)\n",
        "\n",
        "# Define a similarity threshold for identifying potential collusion\n",
        "similarity_threshold = 0.9  # Adjust this threshold based on your specific needs\n",
        "\n",
        "# Find pairs of students with high similarity (potential collusion)\n",
        "collusion_pairs = np.where(similarity_matrix > similarity_threshold)\n",
        "\n",
        "# Filter out self-comparisons and remove duplicate pairs (e.g., (A, B) and (B, A))\n",
        "collusion_pairs = [(pivot_table.index[i], pivot_table.index[j]) for i, j in zip(*collusion_pairs) if i < j]\n",
        "\n",
        "# Print results\n",
        "print(f\"Potential collusion pairs: {collusion_pairs}\")\n",
        "print(f\"Number of potential collusion pairs: {len(collusion_pairs)}\")\n",
        "\n",
        "# Get unique cheater answerSheet IDs\n",
        "answersheet_Ids_3 = set([pair[0] for pair in collusion_pairs] + [pair[1] for pair in collusion_pairs])\n",
        "\n",
        "# Get the potential cheaters' IDs and corresponding answerSheetIds\n",
        "potential_cheaters_3 = data3[data3['answerSheetId'].isin(answersheet_Ids_3)][['candidateId', 'answerSheetId']].drop_duplicates()\n",
        "\n",
        "# Calculate the number of potential cheaters and the number of potential answerSheets\n",
        "num_potential_cheaters_3 = potential_cheaters_3['candidateId'].nunique()\n",
        "num_potential_answersheets_3 = len(answersheet_Ids_3)\n",
        "\n",
        "# Calculate the total number of unique candidates and answerSheets\n",
        "total_candidates_3 = data3['candidateId'].nunique()\n",
        "total_answersheets_3 = data3['answerSheetId'].nunique()\n",
        "\n",
        "# Calculate the percentage of potential cheaters and potential answerSheets\n",
        "percentage_potential_cheaters_3 = (num_potential_cheaters_3 / total_candidates_3) * 100\n",
        "percentage_potential_answersheets_3 = (num_potential_answersheets_3 / total_answersheets_3) * 100\n",
        "\n",
        "# Print out the results\n",
        "print(f\"Number of potential cheaters: {num_potential_cheaters_3}\")\n",
        "print(f\"Number of potential answerSheets: {num_potential_answersheets_3}\")\n",
        "print(f\"Percentage of potential cheaters: {percentage_potential_cheaters_3:.2f}%\")\n",
        "print(f\"Percentage of potential answerSheets: {percentage_potential_answersheets_3:.2f}%\")"
      ],
      "metadata": {
        "colab": {
          "base_uri": "https://localhost:8080/"
        },
        "id": "LwiKNXv7Zp5U",
        "outputId": "fa11f76e-b4ef-47bf-fbea-e158a6a37341"
      },
      "execution_count": null,
      "outputs": [
        {
          "output_type": "stream",
          "name": "stdout",
          "text": [
            "Potential collusion pairs: [('01c09d9d-d16e-4ae1-ac90-3189207f745e', '105ae3da-f1fd-4159-94f2-338934f4e36d'), ('0396e6f3-8775-4640-ac97-1167246d8314', '400c33c1-c3ec-4e22-b717-045f53aa81b9'), ('0396e6f3-8775-4640-ac97-1167246d8314', '89de5e5e-f4bd-452e-a65e-5068776e5e2e'), ('046ba4fa-9ef0-43e5-934d-319b7b2e779d', 'e95c18be-d919-466e-a59f-7b8a9a581a2c'), ('05790ea4-3506-485b-957e-ab20c405a069', '07ff10b2-dab5-49f0-8810-64bafb6d8876'), ('05790ea4-3506-485b-957e-ab20c405a069', '5593f230-7a51-4f0a-a756-84f0a8a83658'), ('05790ea4-3506-485b-957e-ab20c405a069', 'b65ddf5a-d59a-4f31-9277-2ab6c41c4174'), ('05790ea4-3506-485b-957e-ab20c405a069', 'f0ffda12-9e05-48df-838b-028e542feb6d'), ('059cfd8c-c058-46b0-bbdb-54818e39af6d', '2e19d544-aef5-4599-a944-5fb6a63e2d57'), ('05b58f13-6dda-422c-a8b5-d37302fdf58d', '50062d12-dcd8-4be1-aff0-197882e68549'), ('05b58f13-6dda-422c-a8b5-d37302fdf58d', '597713f2-fb95-429d-bf37-32b10ec24d31'), ('05b58f13-6dda-422c-a8b5-d37302fdf58d', 'ba8f4e61-8d96-4ca4-8e24-61288bd31e05'), ('05b58f13-6dda-422c-a8b5-d37302fdf58d', 'c74e905f-bac9-460e-ba2f-7dc7f6611b1e'), ('05b58f13-6dda-422c-a8b5-d37302fdf58d', 'f4b34164-394a-4f3a-8dc3-21d1f04dd14b'), ('072f1161-b128-47c5-8b17-7a504a10481d', '1ea5b2ae-eb7d-45fa-808a-9d2a67c8cbcf'), ('07822d21-239e-4fdb-ab9f-adcd1423fe60', '184d9c8f-88d5-4173-9b3f-052d9acb9631'), ('07822d21-239e-4fdb-ab9f-adcd1423fe60', '4f6418ed-645f-4226-876f-c7d030fc5f75'), ('07822d21-239e-4fdb-ab9f-adcd1423fe60', '60ce851c-8faf-46d3-96f9-ec58d0b98537'), ('07822d21-239e-4fdb-ab9f-adcd1423fe60', 'f0ffda12-9e05-48df-838b-028e542feb6d'), ('07ff10b2-dab5-49f0-8810-64bafb6d8876', '9da32439-4f94-4bbd-a031-8adef8107f5e'), ('093da82c-6c24-4b7f-8309-358fc0a3480c', 'ba1679e4-5e88-4b88-94b0-ee62b9a9ff2b'), ('09fb61a3-e005-4ded-b6af-5838392a427e', '5059a382-7612-4a91-9865-8a1ea7d535ea'), ('09fb61a3-e005-4ded-b6af-5838392a427e', '5cb9781a-ca1e-4232-b81d-7f1f5424b3b8'), ('0a23ca23-b40c-4836-a81f-fd7faf3feb45', '76cf7134-0a8d-469a-80b8-ed0000f3fe18'), ('0a23ca23-b40c-4836-a81f-fd7faf3feb45', '97d1e7cc-32cf-4a6a-94a8-639e0cc68de4'), ('0a7a6ec0-7d63-4f07-99dc-d501798ad252', '232594d8-ce40-4142-b924-883e4c9d59f5'), ('0a7a6ec0-7d63-4f07-99dc-d501798ad252', '9d5251f8-54d8-4175-a53c-0c965142dfb9'), ('0a7a6ec0-7d63-4f07-99dc-d501798ad252', 'b240dd4f-a2c6-4784-8f3e-2d97107160f7'), ('0a7a6ec0-7d63-4f07-99dc-d501798ad252', 'ba8f4e61-8d96-4ca4-8e24-61288bd31e05'), ('0a7a6ec0-7d63-4f07-99dc-d501798ad252', 'f4b34164-394a-4f3a-8dc3-21d1f04dd14b'), ('0a8a4982-7a87-4c83-9c6b-f61bbada970a', '458dfbdd-5bc7-4cd0-a67d-2a418ce99a1c'), ('0a8a4982-7a87-4c83-9c6b-f61bbada970a', '81f735f0-22fe-416e-979d-9adb1e27f8d6'), ('0a8a4982-7a87-4c83-9c6b-f61bbada970a', 'ba1c5736-0f7a-49ca-86f0-2dd356b18330'), ('0ac31d98-c467-46e5-8d50-1cf8a888d16f', 'afed0079-9591-4008-a249-48e766bf9ed1'), ('0c08d967-1a5c-49ed-9f20-22bb5daf0424', '0eee948a-b1dc-4d74-bc81-426303e9e641'), ('0cab07ee-8d45-479e-bc13-bda66213b775', '48596bf2-a009-42ef-ad55-33929f7abdeb'), ('0d596a4c-2c75-4b75-bf37-d6d9a0775e90', 'a8e4fb0a-1d9e-4dab-987a-8ee7686087ab'), ('0ec22ea3-c13a-49f7-b9ef-bc73f28cc233', '7d1ed6e6-a128-433a-8d87-d8efddd3f752'), ('0eee948a-b1dc-4d74-bc81-426303e9e641', '34efeac3-dd52-46be-8ece-06984cdb8efa'), ('0eee948a-b1dc-4d74-bc81-426303e9e641', '5a75caba-78c9-48ca-b180-f09b494740c6'), ('105ae3da-f1fd-4159-94f2-338934f4e36d', '2108cb7f-74d4-41c4-8663-03123ab5fe8a'), ('105ae3da-f1fd-4159-94f2-338934f4e36d', '4bd19ec0-ba82-4495-ba84-17bf3b4c1525'), ('105ae3da-f1fd-4159-94f2-338934f4e36d', 'a837f087-ad45-49c6-be67-a620de051b51'), ('105ae3da-f1fd-4159-94f2-338934f4e36d', 'a8cc6ffc-a882-4211-ba23-8057d16b37c4'), ('10e65d13-0806-4fec-8d14-2a51b858b31e', 'c9357dca-1d72-4ce9-afd2-73b7517ba3a6'), ('11bdffcf-2018-4f83-80b7-9d7d97bd738e', '4bd19ec0-ba82-4495-ba84-17bf3b4c1525'), ('11bdffcf-2018-4f83-80b7-9d7d97bd738e', '6722d01d-6345-41e8-bb22-c94e57497d13'), ('1395ee18-27bb-41cc-b6d3-d3073332c3b7', '66dd5f0d-9663-4a85-b3c3-c004d4007fb4'), ('1395ee18-27bb-41cc-b6d3-d3073332c3b7', 'b852fe65-1991-4710-9425-672a5bffd332'), ('1395ee18-27bb-41cc-b6d3-d3073332c3b7', 'fe9e04c8-f77e-4951-8b4c-18e90c6146c2'), ('144d405b-ea9b-475c-a27d-1b98b1ea5909', '709b9be1-7353-4cab-a2b1-f685429d8570'), ('144d405b-ea9b-475c-a27d-1b98b1ea5909', 'f17cb6a8-6c25-474f-a87e-d77b8712bd0d'), ('14fcbfcb-9106-4b0f-ae6a-a253bbc78647', '1c4878fb-4bb8-4cbd-b6de-2500e0f60acc'), ('14fcbfcb-9106-4b0f-ae6a-a253bbc78647', '8765afd6-493b-4824-9049-a7b189020187'), ('14fcbfcb-9106-4b0f-ae6a-a253bbc78647', 'b852fe65-1991-4710-9425-672a5bffd332'), ('17a158ac-56b1-4fa6-bf93-d13c68291c49', '782d0ae0-9709-4ef4-849e-334fa9d731e5'), ('17a158ac-56b1-4fa6-bf93-d13c68291c49', 'bc8ce3ff-8864-4647-a2ba-3972b36fb59f'), ('17a158ac-56b1-4fa6-bf93-d13c68291c49', 'd64ea092-7c82-4fa8-aa4c-e75dfac15ab8'), ('17c5a47b-b78d-4149-9a80-20cc16a4de65', '8d979a92-38c5-4b71-a868-46fa1b2ef71b'), ('17c5a47b-b78d-4149-9a80-20cc16a4de65', 'c2cb8c59-e3d2-464c-84ba-77d7050aea1d'), ('184d9c8f-88d5-4173-9b3f-052d9acb9631', '60ce851c-8faf-46d3-96f9-ec58d0b98537'), ('184d9c8f-88d5-4173-9b3f-052d9acb9631', '9fd5b63b-4f4b-4354-8734-9c54e4f08a6d'), ('18b51c7d-456b-4784-9568-f3718f1a7a48', '32f6364f-3d6a-4cf9-bef7-53bbad3d30fa'), ('1bf93859-edc3-49cb-ba94-660c30b402c4', '3739d832-64fc-432e-a7b1-bb9f4da06867'), ('1bf93859-edc3-49cb-ba94-660c30b402c4', '5059a382-7612-4a91-9865-8a1ea7d535ea'), ('1bf93859-edc3-49cb-ba94-660c30b402c4', '8c19b161-7cb2-4030-a1b5-93da086ba580'), ('1bf93859-edc3-49cb-ba94-660c30b402c4', 'a82dbd89-1803-4a75-a2a9-90436e241ec9'), ('1c3f5c38-6203-44aa-b7a6-7f93547c9e87', '91de943e-a4e7-43fd-b524-a397a07c2d15'), ('1c3f5c38-6203-44aa-b7a6-7f93547c9e87', '983c2c1f-24ed-4a18-8b29-7ae6f1c1d1ac'), ('1c3f5c38-6203-44aa-b7a6-7f93547c9e87', 'f347b507-a165-4083-8a35-455f7ba0850f'), ('1c3f5c38-6203-44aa-b7a6-7f93547c9e87', 'fd642c20-0392-4281-aa75-89b5308712e1'), ('1c4878fb-4bb8-4cbd-b6de-2500e0f60acc', '355c05d7-b83c-49b0-88fa-8dfb6c750d97'), ('1c4878fb-4bb8-4cbd-b6de-2500e0f60acc', 'a8e4fb0a-1d9e-4dab-987a-8ee7686087ab'), ('1c4878fb-4bb8-4cbd-b6de-2500e0f60acc', 'b852fe65-1991-4710-9425-672a5bffd332'), ('1fd1c25e-66a6-4de7-976c-55e8538c5033', '5593f230-7a51-4f0a-a756-84f0a8a83658'), ('1fd1c25e-66a6-4de7-976c-55e8538c5033', 'b7a968fc-b349-495f-b569-dd8fac67474e'), ('1fd1c25e-66a6-4de7-976c-55e8538c5033', 'de9336f4-f105-4059-8eaf-38b295ab2028'), ('2108cb7f-74d4-41c4-8663-03123ab5fe8a', '8903cfdb-188a-47e5-a25c-2d217d0aa9bc'), ('2108cb7f-74d4-41c4-8663-03123ab5fe8a', 'cf3bcfcd-cc28-4bbe-895f-631f52b3bd2c'), ('2108cb7f-74d4-41c4-8663-03123ab5fe8a', 'f9850f30-ebba-4064-b05d-8529d59d5e9b'), ('232594d8-ce40-4142-b924-883e4c9d59f5', '32912256-90a9-4773-9545-c6da42f9cab6'), ('232594d8-ce40-4142-b924-883e4c9d59f5', 'ba8f4e61-8d96-4ca4-8e24-61288bd31e05'), ('232594d8-ce40-4142-b924-883e4c9d59f5', 'cecb8f43-c922-4804-aa7d-55ec742e0694'), ('232594d8-ce40-4142-b924-883e4c9d59f5', 'f4b34164-394a-4f3a-8dc3-21d1f04dd14b'), ('252c321f-ed09-40dc-a448-a9225cb12531', '2e19d544-aef5-4599-a944-5fb6a63e2d57'), ('252c321f-ed09-40dc-a448-a9225cb12531', '8f3db2de-8c53-4ea9-976b-9d31264a611d'), ('252c321f-ed09-40dc-a448-a9225cb12531', '911db093-ab88-474e-991c-f767d5a14821'), ('252c321f-ed09-40dc-a448-a9225cb12531', '9ba0238f-8934-4094-8cff-94f78d6d1ef9'), ('252c321f-ed09-40dc-a448-a9225cb12531', 'cee7835e-2d3c-47ca-8875-f4c96900c3c4'), ('252c321f-ed09-40dc-a448-a9225cb12531', 'e8aa9041-dd05-4af4-808c-ce919dfb2c06'), ('26216e8f-bf3b-4e38-a1d7-ce2f39647a38', '6a1b1078-5ee2-4c17-baef-a64c7852aac5'), ('26216e8f-bf3b-4e38-a1d7-ce2f39647a38', '88a5f089-5080-4d72-8dac-a292ade472ac'), ('26216e8f-bf3b-4e38-a1d7-ce2f39647a38', 'c0535a7b-382e-4531-9eb5-9ae4a80f8d5c'), ('27808b10-f08b-4030-ab48-1e330ee495ac', 'c9357dca-1d72-4ce9-afd2-73b7517ba3a6'), ('27808b10-f08b-4030-ab48-1e330ee495ac', 'e42e411b-ba05-4456-a968-871d43452333'), ('27d32497-80e4-4463-b9f5-88eefd637428', '4be560f9-27f9-437c-8585-5e874fcf516b'), ('27d32497-80e4-4463-b9f5-88eefd637428', 'a79ca5c5-58aa-4253-9f94-174c7bb6f9f6'), ('27d32497-80e4-4463-b9f5-88eefd637428', 'dd436fbb-5c0e-4276-8e1c-3717f1ff8822'), ('29c1de74-5a25-4285-a520-5da6eb721d86', '4bd19ec0-ba82-4495-ba84-17bf3b4c1525'), ('29c1de74-5a25-4285-a520-5da6eb721d86', 'd6e7d3b1-8626-45fd-9354-5e7588859cd8'), ('2c1c4bf8-40bc-473d-bc01-e7ecd910caa2', '9ffb3fde-7734-477a-988e-c3d13164a8b6'), ('2d032296-b7b5-4b32-a539-837a6479bfb7', '32f6364f-3d6a-4cf9-bef7-53bbad3d30fa'), ('2d032296-b7b5-4b32-a539-837a6479bfb7', 'ca3cfbae-8928-465d-9658-4bb7dba79fea'), ('2e19d544-aef5-4599-a944-5fb6a63e2d57', '4823a461-c951-4721-b82c-3f3bd0b6eb14'), ('2e19d544-aef5-4599-a944-5fb6a63e2d57', '8f3db2de-8c53-4ea9-976b-9d31264a611d'), ('2e19d544-aef5-4599-a944-5fb6a63e2d57', '9ba0238f-8934-4094-8cff-94f78d6d1ef9'), ('2e19d544-aef5-4599-a944-5fb6a63e2d57', 'cee7835e-2d3c-47ca-8875-f4c96900c3c4'), ('2eb8545b-9812-4368-8c8c-66f896f43652', 'f72b1e2c-7300-4742-a9b6-811232aaacce'), ('30d97d0e-2342-444a-a458-c7446ee09103', 'a76cc5df-9f85-49ec-a6fe-c9af46c937de'), ('31befc32-8314-44b1-aed9-52dc561bd128', 'c9357dca-1d72-4ce9-afd2-73b7517ba3a6'), ('31d8f9cf-bf3f-483e-b2b8-a1b6f2486959', '53dd8aa2-09cd-4bca-bd1b-aa083b7d880c'), ('31d8f9cf-bf3f-483e-b2b8-a1b6f2486959', '6de20015-3d4b-40f9-b965-d09c7ade35a9'), ('31d8f9cf-bf3f-483e-b2b8-a1b6f2486959', '89de5e5e-f4bd-452e-a65e-5068776e5e2e'), ('31d8f9cf-bf3f-483e-b2b8-a1b6f2486959', 'abece2fc-a080-423d-9785-5229cb099a4b'), ('31d8f9cf-bf3f-483e-b2b8-a1b6f2486959', 'e190caf3-e0e6-4f5e-8a6e-218adb40af05'), ('32912256-90a9-4773-9545-c6da42f9cab6', '4df262be-d2f9-495e-912c-d942aa265d77'), ('34413e09-0635-4042-8ac5-0a24dd1035f9', '81f735f0-22fe-416e-979d-9adb1e27f8d6'), ('355c05d7-b83c-49b0-88fa-8dfb6c750d97', '35b6e39f-37c8-45b4-93dc-435189d81036'), ('355c05d7-b83c-49b0-88fa-8dfb6c750d97', '4fea7f77-4eb7-42ce-8fa1-cecfd33f89b6'), ('355c05d7-b83c-49b0-88fa-8dfb6c750d97', 'b852fe65-1991-4710-9425-672a5bffd332'), ('35b6e39f-37c8-45b4-93dc-435189d81036', 'b852fe65-1991-4710-9425-672a5bffd332'), ('3739d832-64fc-432e-a7b1-bb9f4da06867', '5059a382-7612-4a91-9865-8a1ea7d535ea'), ('3b31eba2-cc30-42a3-8389-a9cf38a0ab2d', 'c415b971-174b-4df3-a97e-fdb6b338dc43'), ('3c5938c9-0f91-4475-bd08-1c06c8818a64', '8c4f9ef3-d0d7-409b-869f-a2ac274302ea'), ('400c33c1-c3ec-4e22-b717-045f53aa81b9', '89de5e5e-f4bd-452e-a65e-5068776e5e2e'), ('41805d13-4c79-403b-81d0-a16345357342', '76cb3c06-da8e-4381-8145-bf6f57d11db5'), ('4265efa6-3aa7-4192-8b04-6371b9c11ac9', 'c3e634c8-c1a5-48a2-9c13-1de531ccea91'), ('44ec6322-893b-40f0-86d2-720609a904d9', '9bce44dc-d413-4614-bb9a-cde7d66d31bf'), ('458dfbdd-5bc7-4cd0-a67d-2a418ce99a1c', '81f735f0-22fe-416e-979d-9adb1e27f8d6'), ('458dfbdd-5bc7-4cd0-a67d-2a418ce99a1c', 'ba1c5736-0f7a-49ca-86f0-2dd356b18330'), ('458dfbdd-5bc7-4cd0-a67d-2a418ce99a1c', 'c96ac80f-46cf-448e-bc85-5b56a916055d'), ('458dfbdd-5bc7-4cd0-a67d-2a418ce99a1c', 'f82e24d9-64ac-4710-a27c-deff46887f3a'), ('4823a461-c951-4721-b82c-3f3bd0b6eb14', '911db093-ab88-474e-991c-f767d5a14821'), ('4823a461-c951-4721-b82c-3f3bd0b6eb14', 'f04e6d86-59af-415a-b6ee-934973aa25c6'), ('4a669d25-2bea-4746-ab11-40eed762f4d2', 'a6664110-f584-4f02-a0a5-c852ba82a97a'), ('4bd19ec0-ba82-4495-ba84-17bf3b4c1525', '8903cfdb-188a-47e5-a25c-2d217d0aa9bc'), ('4bd19ec0-ba82-4495-ba84-17bf3b4c1525', 'd6e7d3b1-8626-45fd-9354-5e7588859cd8'), ('4be560f9-27f9-437c-8585-5e874fcf516b', '89de5e5e-f4bd-452e-a65e-5068776e5e2e'), ('4be560f9-27f9-437c-8585-5e874fcf516b', 'c5113b74-3b9c-4af8-af24-200ee088ba3c'), ('4be560f9-27f9-437c-8585-5e874fcf516b', 'edda0526-0a26-4463-a910-7b5bdee04f38'), ('4df262be-d2f9-495e-912c-d942aa265d77', 'cecb8f43-c922-4804-aa7d-55ec742e0694'), ('4f6418ed-645f-4226-876f-c7d030fc5f75', '60ce851c-8faf-46d3-96f9-ec58d0b98537'), ('4f6418ed-645f-4226-876f-c7d030fc5f75', 'cf2e26d9-752c-4f3d-b6b1-d4748108e16e'), ('4f6418ed-645f-4226-876f-c7d030fc5f75', 'f0ffda12-9e05-48df-838b-028e542feb6d'), ('4f69ab4a-3f1b-42cb-8ec9-e6c36183660e', '88a5f089-5080-4d72-8dac-a292ade472ac'), ('4fea7f77-4eb7-42ce-8fa1-cecfd33f89b6', 'e03f5462-ec71-4ca6-a480-2060fbb60542'), ('4fea7f77-4eb7-42ce-8fa1-cecfd33f89b6', 'fe9e04c8-f77e-4951-8b4c-18e90c6146c2'), ('50062d12-dcd8-4be1-aff0-197882e68549', '7d1ed6e6-a128-433a-8d87-d8efddd3f752'), ('50062d12-dcd8-4be1-aff0-197882e68549', 'ba8f4e61-8d96-4ca4-8e24-61288bd31e05'), ('50062d12-dcd8-4be1-aff0-197882e68549', 'c74e905f-bac9-460e-ba2f-7dc7f6611b1e'), ('50062d12-dcd8-4be1-aff0-197882e68549', 'f4b34164-394a-4f3a-8dc3-21d1f04dd14b'), ('50062d12-dcd8-4be1-aff0-197882e68549', 'f64c050c-3ec3-46d6-8795-ed03cc907343'), ('5059a382-7612-4a91-9865-8a1ea7d535ea', '8c19b161-7cb2-4030-a1b5-93da086ba580'), ('5059a382-7612-4a91-9865-8a1ea7d535ea', 'cd20abf0-24b1-4262-9118-411a68ed083c'), ('53dd8aa2-09cd-4bca-bd1b-aa083b7d880c', 'e190caf3-e0e6-4f5e-8a6e-218adb40af05'), ('5593f230-7a51-4f0a-a756-84f0a8a83658', '60ce851c-8faf-46d3-96f9-ec58d0b98537'), ('5593f230-7a51-4f0a-a756-84f0a8a83658', '9fd5b63b-4f4b-4354-8734-9c54e4f08a6d'), ('5593f230-7a51-4f0a-a756-84f0a8a83658', 'b65ddf5a-d59a-4f31-9277-2ab6c41c4174'), ('5593f230-7a51-4f0a-a756-84f0a8a83658', 'bc8ce3ff-8864-4647-a2ba-3972b36fb59f'), ('597713f2-fb95-429d-bf37-32b10ec24d31', 'ba8f4e61-8d96-4ca4-8e24-61288bd31e05'), ('597713f2-fb95-429d-bf37-32b10ec24d31', 'c74e905f-bac9-460e-ba2f-7dc7f6611b1e'), ('597713f2-fb95-429d-bf37-32b10ec24d31', 'f4b34164-394a-4f3a-8dc3-21d1f04dd14b'), ('5a75caba-78c9-48ca-b180-f09b494740c6', '82493630-d9bd-4092-85f7-5e765d45992e'), ('5a75caba-78c9-48ca-b180-f09b494740c6', '88ef39f7-7d95-482c-b9e2-8a9e5b963493'), ('5a75caba-78c9-48ca-b180-f09b494740c6', 'c9357dca-1d72-4ce9-afd2-73b7517ba3a6'), ('5b023aba-8f02-438f-919c-764e01545418', '8c19b161-7cb2-4030-a1b5-93da086ba580'), ('5b023aba-8f02-438f-919c-764e01545418', 'ca7b9bf1-5ed2-427b-ba0b-cc8686896449'), ('5b023aba-8f02-438f-919c-764e01545418', 'cd20abf0-24b1-4262-9118-411a68ed083c'), ('5c0f17d5-b535-46d1-a781-3dfe9d4c62b8', '6119f05c-019b-4450-b4a7-02441f3a7e58'), ('5c0f17d5-b535-46d1-a781-3dfe9d4c62b8', '9fc82149-1573-41a1-8c7e-5c2dd1c45566'), ('5c0f17d5-b535-46d1-a781-3dfe9d4c62b8', 'b4158148-b7c2-42d0-b5d7-2f030cce36fe'), ('5c0f17d5-b535-46d1-a781-3dfe9d4c62b8', 'b4c2db6a-f813-4111-9f41-707210ece74d'), ('5c0f17d5-b535-46d1-a781-3dfe9d4c62b8', 'd5f5fb19-afb9-4724-9b73-42ba22640207'), ('5c0f17d5-b535-46d1-a781-3dfe9d4c62b8', 'e018ce37-b5e7-492d-a529-ae2ca50d03d7'), ('5c0f17d5-b535-46d1-a781-3dfe9d4c62b8', 'f82e24d9-64ac-4710-a27c-deff46887f3a'), ('5cb9781a-ca1e-4232-b81d-7f1f5424b3b8', 'da7e67f2-a8df-4f27-aa47-b9b7e41f1363'), ('60ce851c-8faf-46d3-96f9-ec58d0b98537', '9da32439-4f94-4bbd-a031-8adef8107f5e'), ('60ce851c-8faf-46d3-96f9-ec58d0b98537', 'b65ddf5a-d59a-4f31-9277-2ab6c41c4174'), ('60ce851c-8faf-46d3-96f9-ec58d0b98537', 'f0ffda12-9e05-48df-838b-028e542feb6d'), ('60fbdf42-ea20-471a-b7a9-8bab40fc5fee', '91de943e-a4e7-43fd-b524-a397a07c2d15'), ('60fbdf42-ea20-471a-b7a9-8bab40fc5fee', 'cf612753-40a2-467c-94e0-bae98f286b78'), ('60fbdf42-ea20-471a-b7a9-8bab40fc5fee', 'fd642c20-0392-4281-aa75-89b5308712e1'), ('6119f05c-019b-4450-b4a7-02441f3a7e58', '9fc82149-1573-41a1-8c7e-5c2dd1c45566'), ('6119f05c-019b-4450-b4a7-02441f3a7e58', 'b4158148-b7c2-42d0-b5d7-2f030cce36fe'), ('6119f05c-019b-4450-b4a7-02441f3a7e58', 'd5f5fb19-afb9-4724-9b73-42ba22640207'), ('6119f05c-019b-4450-b4a7-02441f3a7e58', 'f82e24d9-64ac-4710-a27c-deff46887f3a'), ('658996b8-45bd-42a4-b20a-7574996ea674', '87ff753d-cab1-4e5d-bd8a-2d27f799e00e'), ('66dd5f0d-9663-4a85-b3c3-c004d4007fb4', 'a0c34e21-bac3-4e28-bece-89c4a68dc601'), ('679f4642-fb3e-42f2-a3f7-e7ea23e19393', '91de943e-a4e7-43fd-b524-a397a07c2d15'), ('691ddc3b-93a0-4574-95ce-2efe731b0f1a', '76bc93f7-eceb-47d4-bf4d-97257b2d0553'), ('6bbfed12-f0f6-4398-8afd-d458341fba3f', 'ba1679e4-5e88-4b88-94b0-ee62b9a9ff2b'), ('6de20015-3d4b-40f9-b965-d09c7ade35a9', '854822e5-98a4-4a0f-99fe-974ad0c277bb'), ('6de20015-3d4b-40f9-b965-d09c7ade35a9', '89de5e5e-f4bd-452e-a65e-5068776e5e2e'), ('6fb8974b-d87b-4470-9edd-0e14b1c5a350', '969af726-bf5a-4621-bafd-3c33237bdf7b'), ('709b9be1-7353-4cab-a2b1-f685429d8570', '87ff753d-cab1-4e5d-bd8a-2d27f799e00e'), ('709b9be1-7353-4cab-a2b1-f685429d8570', '905239dc-521c-47f9-a33a-360ac07a7c4f'), ('709b9be1-7353-4cab-a2b1-f685429d8570', '91de943e-a4e7-43fd-b524-a397a07c2d15'), ('709b9be1-7353-4cab-a2b1-f685429d8570', 'c4df8c86-7dcd-45c5-b533-ffb531704c14'), ('70fbfdd9-0a36-4c75-b4cf-acf39356058a', '911db093-ab88-474e-991c-f767d5a14821'), ('76bc93f7-eceb-47d4-bf4d-97257b2d0553', 'c9419f3e-fe44-4bfe-bc8f-0881abc8466b'), ('81f735f0-22fe-416e-979d-9adb1e27f8d6', '9fc82149-1573-41a1-8c7e-5c2dd1c45566'), ('81f735f0-22fe-416e-979d-9adb1e27f8d6', 'a070c8fe-195d-4b1a-9c1e-4a4ed5a88b56'), ('81f735f0-22fe-416e-979d-9adb1e27f8d6', 'b4c2db6a-f813-4111-9f41-707210ece74d'), ('81f735f0-22fe-416e-979d-9adb1e27f8d6', 'ba1c5736-0f7a-49ca-86f0-2dd356b18330'), ('81f735f0-22fe-416e-979d-9adb1e27f8d6', 'd5f5fb19-afb9-4724-9b73-42ba22640207'), ('81f735f0-22fe-416e-979d-9adb1e27f8d6', 'e018ce37-b5e7-492d-a529-ae2ca50d03d7'), ('81f735f0-22fe-416e-979d-9adb1e27f8d6', 'ed01e853-40bd-4760-9bcf-6c73c83ab46c'), ('81f735f0-22fe-416e-979d-9adb1e27f8d6', 'f82e24d9-64ac-4710-a27c-deff46887f3a'), ('82493630-d9bd-4092-85f7-5e765d45992e', 'b2d8c2f3-37e6-461a-9297-5f14b20d22c2'), ('84c3fd7b-8723-425d-ab11-37e3015bd571', 'b09a73d3-582f-4c98-ad56-91b60f8d7b5c'), ('8765afd6-493b-4824-9049-a7b189020187', 'b852fe65-1991-4710-9425-672a5bffd332'), ('87ff753d-cab1-4e5d-bd8a-2d27f799e00e', '905239dc-521c-47f9-a33a-360ac07a7c4f'), ('87ff753d-cab1-4e5d-bd8a-2d27f799e00e', '91de943e-a4e7-43fd-b524-a397a07c2d15'), ('87ff753d-cab1-4e5d-bd8a-2d27f799e00e', '983c2c1f-24ed-4a18-8b29-7ae6f1c1d1ac'), ('87ff753d-cab1-4e5d-bd8a-2d27f799e00e', 'c415b971-174b-4df3-a97e-fdb6b338dc43'), ('87ff753d-cab1-4e5d-bd8a-2d27f799e00e', 'cf612753-40a2-467c-94e0-bae98f286b78'), ('87ff753d-cab1-4e5d-bd8a-2d27f799e00e', 'fd642c20-0392-4281-aa75-89b5308712e1'), ('88a5f089-5080-4d72-8dac-a292ade472ac', '89936035-b592-4edf-9bb2-4b4f01530236'), ('88a5f089-5080-4d72-8dac-a292ade472ac', '948d12c9-5a44-4ddb-9a2c-b4b676fbad72'), ('8903cfdb-188a-47e5-a25c-2d217d0aa9bc', 'cf3bcfcd-cc28-4bbe-895f-631f52b3bd2c'), ('89de5e5e-f4bd-452e-a65e-5068776e5e2e', 'abece2fc-a080-423d-9785-5229cb099a4b'), ('89de5e5e-f4bd-452e-a65e-5068776e5e2e', 'ea819e13-c614-4e96-965f-b56424b952b2'), ('8c17f2ec-725c-4935-a51c-c76ba794959c', 'c1511148-bf75-410e-a738-edf88f6106e9'), ('8c19b161-7cb2-4030-a1b5-93da086ba580', '8cb54176-7491-4b9a-ad8d-b919446bb7c7'), ('8c19b161-7cb2-4030-a1b5-93da086ba580', 'a82dbd89-1803-4a75-a2a9-90436e241ec9'), ('8c19b161-7cb2-4030-a1b5-93da086ba580', 'c9419f3e-fe44-4bfe-bc8f-0881abc8466b'), ('8c4f9ef3-d0d7-409b-869f-a2ac274302ea', 'b4c2db6a-f813-4111-9f41-707210ece74d'), ('8c4f9ef3-d0d7-409b-869f-a2ac274302ea', 'd5f5fb19-afb9-4724-9b73-42ba22640207'), ('8d979a92-38c5-4b71-a868-46fa1b2ef71b', '9ac1652b-f44c-464d-a11c-de281507e23a'), ('8e2f6de7-2ac7-4749-b28c-c283713d17a4', '969af726-bf5a-4621-bafd-3c33237bdf7b'), ('8ee67714-f18d-471b-b2b8-74cd11ad6200', 'a6664110-f584-4f02-a0a5-c852ba82a97a'), ('8ee67714-f18d-471b-b2b8-74cd11ad6200', 'ba1c5736-0f7a-49ca-86f0-2dd356b18330'), ('8ee67714-f18d-471b-b2b8-74cd11ad6200', 'cd371776-17f1-4ba2-9559-fe27dfa458ec'), ('8f3db2de-8c53-4ea9-976b-9d31264a611d', 'e8aa9041-dd05-4af4-808c-ce919dfb2c06'), ('8f3db2de-8c53-4ea9-976b-9d31264a611d', 'fdef769b-117c-40ba-af15-e579dbf57fea'), ('911db093-ab88-474e-991c-f767d5a14821', '9ba0238f-8934-4094-8cff-94f78d6d1ef9'), ('911db093-ab88-474e-991c-f767d5a14821', 'f04e6d86-59af-415a-b6ee-934973aa25c6'), ('91de943e-a4e7-43fd-b524-a397a07c2d15', '983c2c1f-24ed-4a18-8b29-7ae6f1c1d1ac'), ('91de943e-a4e7-43fd-b524-a397a07c2d15', 'cf612753-40a2-467c-94e0-bae98f286b78'), ('91de943e-a4e7-43fd-b524-a397a07c2d15', 'fd642c20-0392-4281-aa75-89b5308712e1'), ('9226fb09-4a7a-4de0-9f44-527ff9b7cc2e', 'cd371776-17f1-4ba2-9559-fe27dfa458ec'), ('969af726-bf5a-4621-bafd-3c33237bdf7b', 'c6131f26-0e9d-48dc-8ad8-d27824490cf7'), ('97c2c520-a23a-4c5c-abee-b97e364e4f39', '983c2c1f-24ed-4a18-8b29-7ae6f1c1d1ac'), ('97c88857-dd1e-41d8-8ec2-7d49a9553fd6', 'a4deb39d-f494-443e-8af9-c94cd6e4460d'), ('983c2c1f-24ed-4a18-8b29-7ae6f1c1d1ac', 'fd642c20-0392-4281-aa75-89b5308712e1'), ('9ac1652b-f44c-464d-a11c-de281507e23a', 'db531a00-4ce6-4c49-ad90-0aa959f476a8'), ('9ba0238f-8934-4094-8cff-94f78d6d1ef9', 'cee7835e-2d3c-47ca-8875-f4c96900c3c4'), ('9d8672a7-967b-47b1-aae3-687e085a303c', 'd1853cb4-e752-4c13-a0ae-861b762af8da'), ('9fc82149-1573-41a1-8c7e-5c2dd1c45566', 'b4158148-b7c2-42d0-b5d7-2f030cce36fe'), ('9fc82149-1573-41a1-8c7e-5c2dd1c45566', 'ba1c5736-0f7a-49ca-86f0-2dd356b18330'), ('9fc82149-1573-41a1-8c7e-5c2dd1c45566', 'd5f5fb19-afb9-4724-9b73-42ba22640207'), ('9fc82149-1573-41a1-8c7e-5c2dd1c45566', 'e018ce37-b5e7-492d-a529-ae2ca50d03d7'), ('9fc82149-1573-41a1-8c7e-5c2dd1c45566', 'f82e24d9-64ac-4710-a27c-deff46887f3a'), ('9fd5b63b-4f4b-4354-8734-9c54e4f08a6d', 'bc8ce3ff-8864-4647-a2ba-3972b36fb59f'), ('a3d26ec4-f11d-4996-bfa8-b24db2b989d7', 'a82dbd89-1803-4a75-a2a9-90436e241ec9'), ('a517a475-f8ea-456d-bbb9-f93dce6df1ab', 'aedeab1f-b50f-41a9-b333-20d71b90cd67'), ('a6664110-f584-4f02-a0a5-c852ba82a97a', 'f82e24d9-64ac-4710-a27c-deff46887f3a'), ('a76cc5df-9f85-49ec-a6fe-c9af46c937de', 'e0b189ad-9d97-47ed-aa85-9b39d7f69ef0'), ('a76cc5df-9f85-49ec-a6fe-c9af46c937de', 'f347b507-a165-4083-8a35-455f7ba0850f'), ('a82dbd89-1803-4a75-a2a9-90436e241ec9', 'c9419f3e-fe44-4bfe-bc8f-0881abc8466b'), ('abece2fc-a080-423d-9785-5229cb099a4b', 'e190caf3-e0e6-4f5e-8a6e-218adb40af05'), ('abece2fc-a080-423d-9785-5229cb099a4b', 'e716a59f-8df2-40d0-8a66-92603f306181'), ('ada233e9-8c96-4d32-b16f-64d3b057fc84', 'db531a00-4ce6-4c49-ad90-0aa959f476a8'), ('b4158148-b7c2-42d0-b5d7-2f030cce36fe', 'ba1c5736-0f7a-49ca-86f0-2dd356b18330'), ('b4158148-b7c2-42d0-b5d7-2f030cce36fe', 'e018ce37-b5e7-492d-a529-ae2ca50d03d7'), ('b4c2db6a-f813-4111-9f41-707210ece74d', 'd5f5fb19-afb9-4724-9b73-42ba22640207'), ('b65ddf5a-d59a-4f31-9277-2ab6c41c4174', 'f0ffda12-9e05-48df-838b-028e542feb6d'), ('b852fe65-1991-4710-9425-672a5bffd332', 'c52102c7-5594-4911-9036-0ad2e00aafdb'), ('b852fe65-1991-4710-9425-672a5bffd332', 'e03f5462-ec71-4ca6-a480-2060fbb60542'), ('ba1c5736-0f7a-49ca-86f0-2dd356b18330', 'e018ce37-b5e7-492d-a529-ae2ca50d03d7'), ('ba8f4e61-8d96-4ca4-8e24-61288bd31e05', 'c74e905f-bac9-460e-ba2f-7dc7f6611b1e'), ('ba8f4e61-8d96-4ca4-8e24-61288bd31e05', 'cecb8f43-c922-4804-aa7d-55ec742e0694'), ('ba8f4e61-8d96-4ca4-8e24-61288bd31e05', 'f64c050c-3ec3-46d6-8795-ed03cc907343'), ('c22d367a-3d39-42ba-95c9-5fd86c3319ff', 'fa0150b6-01d4-4c63-8c29-74f173ace351'), ('c2fe3a77-0d60-44e3-a589-fc5b334fe300', 'fe9e04c8-f77e-4951-8b4c-18e90c6146c2'), ('c3e634c8-c1a5-48a2-9c13-1de531ccea91', 'edc5ee06-433b-422b-b181-503c2efd0964'), ('c74e905f-bac9-460e-ba2f-7dc7f6611b1e', 'f4b34164-394a-4f3a-8dc3-21d1f04dd14b'), ('c96ac80f-46cf-448e-bc85-5b56a916055d', 'e018ce37-b5e7-492d-a529-ae2ca50d03d7'), ('c9a986c1-6931-4cee-9bbf-f0eb57cb1fc3', 'd8221994-898a-4647-8754-8d9c6653d25b'), ('c9a986c1-6931-4cee-9bbf-f0eb57cb1fc3', 'e1d76627-cb40-4470-8393-f5f342703066'), ('cd371776-17f1-4ba2-9559-fe27dfa458ec', 'f82e24d9-64ac-4710-a27c-deff46887f3a'), ('cee7835e-2d3c-47ca-8875-f4c96900c3c4', 'fa76ca94-6324-4619-a32d-81486677bf9f'), ('d2ebe2fe-f8bb-47a2-9590-266344de0728', 'ed01e853-40bd-4760-9bcf-6c73c83ab46c'), ('d5f5fb19-afb9-4724-9b73-42ba22640207', 'e018ce37-b5e7-492d-a529-ae2ca50d03d7'), ('d5f5fb19-afb9-4724-9b73-42ba22640207', 'f82e24d9-64ac-4710-a27c-deff46887f3a'), ('e32d74d7-f1fc-4bea-9293-f741962d5f67', 'fa76ca94-6324-4619-a32d-81486677bf9f'), ('e8aa9041-dd05-4af4-808c-ce919dfb2c06', 'fdef769b-117c-40ba-af15-e579dbf57fea'), ('ed01e853-40bd-4760-9bcf-6c73c83ab46c', 'fe18c541-b7f1-448d-925b-7bf5eb15970f'), ('f347b507-a165-4083-8a35-455f7ba0850f', 'fd642c20-0392-4281-aa75-89b5308712e1')]\n",
            "Number of potential collusion pairs: 289\n",
            "Number of potential cheaters: 230\n",
            "Number of potential answerSheets: 230\n",
            "Percentage of potential cheaters: 28.26%\n",
            "Percentage of potential answerSheets: 22.77%\n"
          ]
        }
      ]
    },
    {
      "cell_type": "markdown",
      "metadata": {
        "id": "S-x3_2oZQsDN"
      },
      "source": [
        "## **5.Kullback-Leibler Divergence Analysis**"
      ]
    },
    {
      "cell_type": "code",
      "execution_count": null,
      "metadata": {
        "id": "aiLFlQ8ETQeM"
      },
      "outputs": [],
      "source": [
        "import pandas as pd\n",
        "import numpy as np\n",
        "import statsmodels.api as sm\n",
        "from sklearn.metrics import pairwise_distances\n",
        "from scipy.stats import entropy\n",
        "import seaborn as sns\n",
        "from scipy import stats\n",
        "import matplotlib.pyplot as plt\n",
        "import pandas as pd\n",
        "import numpy as np\n",
        "from scipy.stats import entropy"
      ]
    },
    {
      "cell_type": "code",
      "source": [
        "import pandas as pd\n",
        "import numpy as np\n",
        "from scipy.stats import entropy\n",
        "\n",
        "def calculate_kl_divergences(df):\n",
        "    # Drop all NaN in ResponseTime column\n",
        "    df = df.dropna(subset=['ResponseTime'])\n",
        "\n",
        "    # Calculate average response time per question for the group\n",
        "    group_response_times = df.groupby('questionId')['ResponseTime'].mean()\n",
        "\n",
        "    # Define a function to calculate KL Divergence\n",
        "    def calculate_kl_divergence(individual_response_times, group_response_times):\n",
        "        # Normalize the distributions\n",
        "        individual_sum = individual_response_times.sum()\n",
        "        group_sum = group_response_times.sum()\n",
        "\n",
        "        if individual_sum == 0 or group_sum == 0:\n",
        "            return np.nan\n",
        "\n",
        "        individual_distribution = individual_response_times / individual_sum\n",
        "        group_distribution = group_response_times / group_sum\n",
        "\n",
        "        # Add a small value to avoid division by zero in log\n",
        "        epsilon = 1e-10\n",
        "        kl_divergence = entropy(individual_distribution + epsilon, group_distribution + epsilon)\n",
        "        return kl_divergence\n",
        "\n",
        "    # Prepare a DataFrame to store KL Divergence results\n",
        "    kl_divergence_results = []\n",
        "\n",
        "    # Iterate over each answersheet\n",
        "    for answersheet_id in df['answerSheetId'].unique():\n",
        "        # Get response times for the answersheet\n",
        "        candidate_data = df[df['answerSheetId'] == answersheet_id]\n",
        "        candidate_response_times = candidate_data.groupby('questionId')['ResponseTime'].sum()\n",
        "\n",
        "        # Align the distributions to the same questions\n",
        "        aligned_group_times = group_response_times.loc[candidate_response_times.index]\n",
        "\n",
        "        # Ensure both distributions have the same length and no zero values\n",
        "        if len(candidate_response_times) == len(aligned_group_times) and all(candidate_response_times > 0) and all(aligned_group_times > 0):\n",
        "            # Calculate KL Divergence for the candidate\n",
        "            kl_divergence = calculate_kl_divergence(candidate_response_times, aligned_group_times)\n",
        "        else:\n",
        "            kl_divergence = np.nan\n",
        "\n",
        "        # Store the result\n",
        "        kl_divergence_results.append({\n",
        "            'answerSheetId': answersheet_id,\n",
        "            'candidateId': candidate_data['candidateId'].iloc[0],\n",
        "            'KL_Divergence': kl_divergence\n",
        "        })\n",
        "\n",
        "    # Convert results to DataFrame\n",
        "    kl_divergence_df = pd.DataFrame(kl_divergence_results)\n",
        "    return kl_divergence_df\n",
        "\n",
        "# Use the DataFrame to calculate KL Divergence\n",
        "kl_divergence_df = calculate_kl_divergences(final_df)\n",
        "\n",
        "# Flag candidates with high KL Divergence\n",
        "threshold = kl_divergence_df['KL_Divergence'].quantile(0.99)  # For example, top 1% as threshold\n",
        "potential_cheaters = kl_divergence_df[kl_divergence_df['KL_Divergence'] > threshold]\n",
        "\n",
        "# Calculate the percentage of flagged candidates and answer sheets\n",
        "total_candidates = len(final_df['candidateId'].unique())\n",
        "total_answer_sheets = len(final_df['answerSheetId'].unique())\n",
        "\n",
        "num_potential_cheaters = len(potential_cheaters['candidateId'].unique())\n",
        "num_potential_answer_sheets = len(potential_cheaters)\n",
        "\n",
        "percentage_potential_cheaters = (num_potential_cheaters / total_candidates) * 100\n",
        "percentage_potential_answer_sheets = (num_potential_answer_sheets / total_answer_sheets) * 100\n",
        "\n",
        "# Get IDs of potential cheaters\n",
        "answersheet_Ids_5 = potential_cheaters['answerSheetId'].tolist()\n",
        "\n",
        "# Print out the results\n",
        "print(f\"Number of potential cheaters: {num_potential_cheaters}\")\n",
        "print(f\"Number of potential answerSheets: {num_potential_answer_sheets}\")\n",
        "print(f\"Percentage of potential cheaters: {percentage_potential_cheaters:.2f}%\")\n",
        "print(f\"Percentage of potential answerSheets: {percentage_potential_answer_sheets:.2f}%\")"
      ],
      "metadata": {
        "colab": {
          "base_uri": "https://localhost:8080/"
        },
        "id": "fQsHwt4B2W5h",
        "outputId": "d389649f-3ac4-435a-b263-ba12c18af796"
      },
      "execution_count": null,
      "outputs": [
        {
          "output_type": "stream",
          "name": "stdout",
          "text": [
            "Number of potential cheaters: 11\n",
            "Number of potential answerSheets: 11\n",
            "Percentage of potential cheaters: 1.35%\n",
            "Percentage of potential answerSheets: 1.09%\n"
          ]
        }
      ]
    },
    {
      "cell_type": "markdown",
      "metadata": {
        "id": "ZcpedGSGbMd0"
      },
      "source": [
        "## **Find common potential cheaters**"
      ]
    },
    {
      "cell_type": "markdown",
      "metadata": {
        "id": "n4PY9ZhckfqJ"
      },
      "source": [
        "## **Identify answersheets flagged by all methods**"
      ]
    },
    {
      "cell_type": "code",
      "execution_count": null,
      "metadata": {
        "colab": {
          "base_uri": "https://localhost:8080/"
        },
        "id": "UtIwIa9yY9y6",
        "outputId": "3c4de58c-0543-4d00-d64f-92a067031aec"
      },
      "outputs": [
        {
          "output_type": "stream",
          "name": "stdout",
          "text": [
            "Final Set of Cheaters' IDs and Corresponding answerSheetIds:\n",
            "Empty DataFrame\n",
            "Columns: [candidateId, answerSheetId]\n",
            "Index: []\n",
            "Number of final cheaters: 0\n",
            "Number of final answerSheets: 0\n",
            "Percentage of final cheaters: 0.00%\n",
            "Percentage of final answerSheets: 0.00%\n"
          ]
        }
      ],
      "source": [
        "# Find the intersection of all methods\n",
        "intersection_answersheet_ids = set(answersheet_Ids_1) & set(answersheet_Ids_2) & set(answersheet_Ids_3)  & set(answersheet_Ids_5)\n",
        "\n",
        "# Get the final set of cheaters' candidate IDs and answersheet IDs\n",
        "final_cheaters = final_df[final_df['answerSheetId'].isin(intersection_answersheet_ids)][['candidateId', 'answerSheetId']].drop_duplicates()\n",
        "\n",
        "# Calculate statistics for the final set of cheaters\n",
        "num_final_cheaters = final_cheaters['candidateId'].nunique()\n",
        "num_final_answersheets = len(intersection_answersheet_ids)\n",
        "total_candidates = final_df['candidateId'].nunique()\n",
        "\n",
        "percentage_final_cheaters = (num_final_cheaters / total_candidates) * 100\n",
        "percentage_final_answersheets = (num_final_answersheets / total_answersheets) * 100\n",
        "\n",
        "# Print out the final results\n",
        "print(\"Final Set of Cheaters' IDs and Corresponding answerSheetIds:\")\n",
        "print(final_cheaters)\n",
        "print(f\"Number of final cheaters: {num_final_cheaters}\")\n",
        "print(f\"Number of final answerSheets: {num_final_answersheets}\")\n",
        "print(f\"Percentage of final cheaters: {percentage_final_cheaters:.2f}%\")\n",
        "print(f\"Percentage of final answerSheets: {percentage_final_answersheets:.2f}%\")\n"
      ]
    },
    {
      "cell_type": "markdown",
      "metadata": {
        "id": "TfigxxPCkc8P"
      },
      "source": [
        "## **Identify answersheets flagged by at least 4 methods**"
      ]
    },
    {
      "cell_type": "code",
      "execution_count": null,
      "metadata": {
        "colab": {
          "base_uri": "https://localhost:8080/"
        },
        "id": "fWAiv5-Ua5sJ",
        "outputId": "1e4cc0e3-f655-4435-ae0a-5fbf014ff18b"
      },
      "outputs": [
        {
          "output_type": "stream",
          "name": "stdout",
          "text": [
            "Final Set of Cheaters' IDs and Corresponding answersheetIds (Flagged by Multiple Methods):\n",
            "                                candidateId  \\\n",
            "12584  3602fa4e-08b0-4db2-83fa-e81a97a68f23   \n",
            "16967  4ad0d818-c2df-4d3b-8fbb-4cd78d369681   \n",
            "23459  65737f9a-3a4e-4689-92a2-bb918c45b63b   \n",
            "35383  96c3e625-a937-4c74-a837-038695a73927   \n",
            "35761  97c35ee0-131a-4229-a488-a9e02475b574   \n",
            "36360  9b725949-0c8b-479f-a178-7d1d7f2ca010   \n",
            "41758  b25edf39-bc91-4a98-a13c-6f66e3a720e8   \n",
            "45645  bfaf7fe9-c6d5-4fe5-8cd3-20882e574237   \n",
            "\n",
            "                              answerSheetId  \n",
            "12584  969af726-bf5a-4621-bafd-3c33237bdf7b  \n",
            "16967  10e65d13-0806-4fec-8d14-2a51b858b31e  \n",
            "23459  d1dcbd25-b224-490b-8425-f1721448a325  \n",
            "35383  0a23ca23-b40c-4836-a81f-fd7faf3feb45  \n",
            "35761  ef923be0-c032-4f23-8425-5fc94224537b  \n",
            "36360  3b31eba2-cc30-42a3-8389-a9cf38a0ab2d  \n",
            "41758  2eb8545b-9812-4368-8c8c-66f896f43652  \n",
            "45645  f64c050c-3ec3-46d6-8795-ed03cc907343  \n",
            "Number of final cheaters: 8\n",
            "Number of final answersheets: 8\n",
            "Percentage of final cheaters: 0.98%\n",
            "Percentage of final answersheets: 0.79%\n"
          ]
        }
      ],
      "source": [
        "# Convert all answersheetIds lists to standard Python lists\n",
        "answersheetIds_1 = list(answersheet_Ids_1)\n",
        "answersheetIds_2 = list(answersheet_Ids_2)\n",
        "answersheetIds_3 = list(answersheet_Ids_3)\n",
        "answersheetIds_5 = list(answersheet_Ids_5)\n",
        "\n",
        "# Get the unique answersheetIds from all methods\n",
        "all_unique_answersheetIds = list(set(answersheetIds_1 + answersheetIds_2 + answersheetIds_3 + answersheetIds_5))\n",
        "\n",
        "# Combine all answersheetIds into a single DataFrame\n",
        "all_cheaters_df = pd.DataFrame({\n",
        "    'answerSheetId': all_unique_answersheetIds,\n",
        "    'flagged_by_1': [1 if i in answersheetIds_1 else 0 for i in all_unique_answersheetIds],\n",
        "    'flagged_by_2': [1 if i in answersheetIds_2 else 0 for i in all_unique_answersheetIds],\n",
        "    'flagged_by_3': [1 if i in answersheetIds_3 else 0 for i in all_unique_answersheetIds],\n",
        "    'flagged_by_5': [1 if i in answersheetIds_5 else 0 for i in all_unique_answersheetIds]\n",
        "})\n",
        "\n",
        "# Calculate how many times each answersheet was flagged\n",
        "all_cheaters_df['total_flags'] = all_cheaters_df[['flagged_by_1', 'flagged_by_2', 'flagged_by_3',  'flagged_by_5']].sum(axis=1)\n",
        "\n",
        "# Identify answersheets flagged by at least 4 methods\n",
        "multi_flagged_cheaters = all_cheaters_df[all_cheaters_df['total_flags'] >= 3]\n",
        "\n",
        "# Get the final set of cheaters' candidateIds and answersheetIds\n",
        "final_cheaters_multi = final_df[final_df['answerSheetId'].isin(multi_flagged_cheaters['answerSheetId'])][['candidateId', 'answerSheetId']].drop_duplicates()\n",
        "\n",
        "# Calculate statistics for the final set of cheaters flagged by multiple methods\n",
        "num_final_cheaters_multi = final_cheaters_multi['candidateId'].nunique()\n",
        "num_final_answersheets_multi = len(multi_flagged_cheaters)\n",
        "total_candidates = final_df['candidateId'].nunique()\n",
        "\n",
        "percentage_final_cheaters_multi = (num_final_cheaters_multi / total_candidates) * 100\n",
        "percentage_final_answersheets_multi = (num_final_answersheets_multi / total_answersheets) * 100\n",
        "\n",
        "# Print out the final results from the multiple method analysis\n",
        "print(\"Final Set of Cheaters' IDs and Corresponding answersheetIds (Flagged by Multiple Methods):\")\n",
        "print(final_cheaters_multi)\n",
        "print(f\"Number of final cheaters: {num_final_cheaters_multi}\")\n",
        "print(f\"Number of final answersheets: {num_final_answersheets_multi}\")\n",
        "print(f\"Percentage of final cheaters: {percentage_final_cheaters_multi:.2f}%\")\n",
        "print(f\"Percentage of final answersheets: {percentage_final_answersheets_multi:.2f}%\")"
      ]
    },
    {
      "cell_type": "code",
      "source": [
        "# Convert answersheetIds to candidateIds for each method using final_df\n",
        "candidates_method_1 = final_df[final_df['answerSheetId'].isin(answersheetIds_1)][['candidateId', 'answerSheetId']]\n",
        "candidates_method_2 = final_df[final_df['answerSheetId'].isin(answersheetIds_2)][['candidateId', 'answerSheetId']]\n",
        "candidates_method_3 = final_df[final_df['answerSheetId'].isin(answersheetIds_3)][['candidateId', 'answerSheetId']]\n",
        "candidates_method_5 = final_df[final_df['answerSheetId'].isin(answersheetIds_5)][['candidateId', 'answerSheetId']]\n",
        "\n",
        "# Print each method's candidateIds and answersheetIds\n",
        "print(\"Candidates flagged by method 1:\")\n",
        "print(candidates_method_1)\n",
        "print(\"Candidates flagged by method 2:\")\n",
        "print(candidates_method_2)\n",
        "print(\"Candidates flagged by method 3:\")\n",
        "print(candidates_method_3)\n",
        "print(\"Candidates flagged by method 5:\")\n",
        "print(candidates_method_5)\n",
        "\n",
        "# Print each method's answersheetIds\n",
        "print(\"Answersheet IDs flagged by method 1:\")\n",
        "print(answersheetIds_1)\n",
        "print(\"Answersheet IDs flagged by method 2:\")\n",
        "print(answersheetIds_2)\n",
        "print(\"Answersheet IDs flagged by method 3:\")\n",
        "print(answersheetIds_3)\n",
        "print(\"Answersheet IDs flagged by method 5:\")\n",
        "print(answersheetIds_5)"
      ],
      "metadata": {
        "colab": {
          "base_uri": "https://localhost:8080/"
        },
        "id": "PWj69QngWryx",
        "outputId": "fd428910-7c38-4a39-eea3-e8d8efd1a7a6"
      },
      "execution_count": null,
      "outputs": [
        {
          "output_type": "stream",
          "name": "stdout",
          "text": [
            "Candidates flagged by method 1:\n",
            "                                candidateId  \\\n",
            "0      0005c95f-814b-4117-8065-f25c33f1e712   \n",
            "1      0005c95f-814b-4117-8065-f25c33f1e712   \n",
            "2      0005c95f-814b-4117-8065-f25c33f1e712   \n",
            "3      0005c95f-814b-4117-8065-f25c33f1e712   \n",
            "4      0005c95f-814b-4117-8065-f25c33f1e712   \n",
            "...                                     ...   \n",
            "60509  ffff87dd-42c5-4479-acc7-acb6f1e45b17   \n",
            "60510  ffff87dd-42c5-4479-acc7-acb6f1e45b17   \n",
            "60511  ffff87dd-42c5-4479-acc7-acb6f1e45b17   \n",
            "60512  ffff87dd-42c5-4479-acc7-acb6f1e45b17   \n",
            "60513  ffff87dd-42c5-4479-acc7-acb6f1e45b17   \n",
            "\n",
            "                              answerSheetId  \n",
            "0      6bbfed12-f0f6-4398-8afd-d458341fba3f  \n",
            "1      6bbfed12-f0f6-4398-8afd-d458341fba3f  \n",
            "2      6bbfed12-f0f6-4398-8afd-d458341fba3f  \n",
            "3      6bbfed12-f0f6-4398-8afd-d458341fba3f  \n",
            "4      6bbfed12-f0f6-4398-8afd-d458341fba3f  \n",
            "...                                     ...  \n",
            "60509  6fb8974b-d87b-4470-9edd-0e14b1c5a350  \n",
            "60510  6fb8974b-d87b-4470-9edd-0e14b1c5a350  \n",
            "60511  6fb8974b-d87b-4470-9edd-0e14b1c5a350  \n",
            "60512  6fb8974b-d87b-4470-9edd-0e14b1c5a350  \n",
            "60513  6fb8974b-d87b-4470-9edd-0e14b1c5a350  \n",
            "\n",
            "[10260 rows x 2 columns]\n",
            "Candidates flagged by method 2:\n",
            "                                candidateId  \\\n",
            "542    035898c3-bb6f-4f2f-bc64-b05caf7ff160   \n",
            "543    035898c3-bb6f-4f2f-bc64-b05caf7ff160   \n",
            "544    035898c3-bb6f-4f2f-bc64-b05caf7ff160   \n",
            "545    035898c3-bb6f-4f2f-bc64-b05caf7ff160   \n",
            "546    035898c3-bb6f-4f2f-bc64-b05caf7ff160   \n",
            "...                                     ...   \n",
            "60426  fff24f85-4e6b-447a-9ff0-12d281b2a03e   \n",
            "60427  fff24f85-4e6b-447a-9ff0-12d281b2a03e   \n",
            "60428  fff24f85-4e6b-447a-9ff0-12d281b2a03e   \n",
            "60429  fff24f85-4e6b-447a-9ff0-12d281b2a03e   \n",
            "60430  fff24f85-4e6b-447a-9ff0-12d281b2a03e   \n",
            "\n",
            "                              answerSheetId  \n",
            "542    aa93b23a-ed23-496d-905a-f7fced181d8c  \n",
            "543    aa93b23a-ed23-496d-905a-f7fced181d8c  \n",
            "544    aa93b23a-ed23-496d-905a-f7fced181d8c  \n",
            "545    aa93b23a-ed23-496d-905a-f7fced181d8c  \n",
            "546    aa93b23a-ed23-496d-905a-f7fced181d8c  \n",
            "...                                     ...  \n",
            "60426  47051d51-4084-4bfa-a861-cbdd92a2ac02  \n",
            "60427  47051d51-4084-4bfa-a861-cbdd92a2ac02  \n",
            "60428  47051d51-4084-4bfa-a861-cbdd92a2ac02  \n",
            "60429  47051d51-4084-4bfa-a861-cbdd92a2ac02  \n",
            "60430  47051d51-4084-4bfa-a861-cbdd92a2ac02  \n",
            "\n",
            "[15484 rows x 2 columns]\n",
            "Candidates flagged by method 3:\n",
            "                                candidateId  \\\n",
            "0      0005c95f-814b-4117-8065-f25c33f1e712   \n",
            "1      0005c95f-814b-4117-8065-f25c33f1e712   \n",
            "2      0005c95f-814b-4117-8065-f25c33f1e712   \n",
            "3      0005c95f-814b-4117-8065-f25c33f1e712   \n",
            "4      0005c95f-814b-4117-8065-f25c33f1e712   \n",
            "...                                     ...   \n",
            "60509  ffff87dd-42c5-4479-acc7-acb6f1e45b17   \n",
            "60510  ffff87dd-42c5-4479-acc7-acb6f1e45b17   \n",
            "60511  ffff87dd-42c5-4479-acc7-acb6f1e45b17   \n",
            "60512  ffff87dd-42c5-4479-acc7-acb6f1e45b17   \n",
            "60513  ffff87dd-42c5-4479-acc7-acb6f1e45b17   \n",
            "\n",
            "                              answerSheetId  \n",
            "0      6bbfed12-f0f6-4398-8afd-d458341fba3f  \n",
            "1      6bbfed12-f0f6-4398-8afd-d458341fba3f  \n",
            "2      6bbfed12-f0f6-4398-8afd-d458341fba3f  \n",
            "3      6bbfed12-f0f6-4398-8afd-d458341fba3f  \n",
            "4      6bbfed12-f0f6-4398-8afd-d458341fba3f  \n",
            "...                                     ...  \n",
            "60509  6fb8974b-d87b-4470-9edd-0e14b1c5a350  \n",
            "60510  6fb8974b-d87b-4470-9edd-0e14b1c5a350  \n",
            "60511  6fb8974b-d87b-4470-9edd-0e14b1c5a350  \n",
            "60512  6fb8974b-d87b-4470-9edd-0e14b1c5a350  \n",
            "60513  6fb8974b-d87b-4470-9edd-0e14b1c5a350  \n",
            "\n",
            "[16896 rows x 2 columns]\n",
            "Candidates flagged by method 5:\n",
            "                                candidateId  \\\n",
            "16967  4ad0d818-c2df-4d3b-8fbb-4cd78d369681   \n",
            "16968  4ad0d818-c2df-4d3b-8fbb-4cd78d369681   \n",
            "16969  4ad0d818-c2df-4d3b-8fbb-4cd78d369681   \n",
            "16970  4ad0d818-c2df-4d3b-8fbb-4cd78d369681   \n",
            "16971  4ad0d818-c2df-4d3b-8fbb-4cd78d369681   \n",
            "...                                     ...   \n",
            "53267  de4b2c5f-6cd0-4ec3-8049-13e9bb63eb92   \n",
            "53268  de4b2c5f-6cd0-4ec3-8049-13e9bb63eb92   \n",
            "53269  de4b2c5f-6cd0-4ec3-8049-13e9bb63eb92   \n",
            "53270  de4b2c5f-6cd0-4ec3-8049-13e9bb63eb92   \n",
            "53271  de4b2c5f-6cd0-4ec3-8049-13e9bb63eb92   \n",
            "\n",
            "                              answerSheetId  \n",
            "16967  10e65d13-0806-4fec-8d14-2a51b858b31e  \n",
            "16968  10e65d13-0806-4fec-8d14-2a51b858b31e  \n",
            "16969  10e65d13-0806-4fec-8d14-2a51b858b31e  \n",
            "16970  10e65d13-0806-4fec-8d14-2a51b858b31e  \n",
            "16971  10e65d13-0806-4fec-8d14-2a51b858b31e  \n",
            "...                                     ...  \n",
            "53267  9b482471-ba97-4234-b3f6-3068d8af3a2c  \n",
            "53268  9b482471-ba97-4234-b3f6-3068d8af3a2c  \n",
            "53269  9b482471-ba97-4234-b3f6-3068d8af3a2c  \n",
            "53270  9b482471-ba97-4234-b3f6-3068d8af3a2c  \n",
            "53271  9b482471-ba97-4234-b3f6-3068d8af3a2c  \n",
            "\n",
            "[796 rows x 2 columns]\n",
            "Answersheet IDs flagged by method 1:\n",
            "['6bbfed12-f0f6-4398-8afd-d458341fba3f', '7347e573-9cf6-41ca-97a7-6fb979939f5b', 'aa93b23a-ed23-496d-905a-f7fced181d8c', '3da10398-b038-4eee-9247-523853c67cd6', '24ba9117-7c1f-42e4-b3ff-73244c7e863f', 'c2cb8c59-e3d2-464c-84ba-77d7050aea1d', 'd6257b1c-4e59-47e3-b4ed-d615a4f58bea', '420e94a7-4700-4dba-ac73-be6d1412db7e', '3b4b2223-8acb-44fe-8e75-1e9380a094fc', '9a3c47f1-22ad-474c-bc74-b8ebe64f7493', 'dcdbc3b2-0e7c-46c5-ab5e-b23d13bc21b0', '1a7b5864-c1ea-48c7-8195-a4472af946f6', '82493630-d9bd-4092-85f7-5e765d45992e', 'd7a6779f-c922-4dbc-ba61-70e1498e131b', '31124455-b96f-44fa-a133-5130268b492e', '7408f5c4-6f57-4bd6-a81e-214000148b1f', '88345f3a-18b0-43f1-bf73-c77383fb712e', '7868c97b-6590-43fa-9acd-b42ef8203f04', '970fb573-7e19-40a6-8137-62f358032cb8', 'df227cea-1dfc-4b6f-9108-b7d24ecdfd35', 'f72b1e2c-7300-4742-a9b6-811232aaacce', '7a9302b6-21f3-4a29-9ff3-a22e4e0e4ef2', '4bdc6936-1779-4b18-8865-a31e80ed9a16', '67e9f6a6-9ea0-4fd6-a235-4dd23cebd7a3', 'baeafddf-cf76-4a30-827a-b7dd61059738', '92ff53c8-6bc6-4e97-8e1c-7622972b0c3e', '32f6364f-3d6a-4cf9-bef7-53bbad3d30fa', '387a5311-d05d-48be-8b27-922727fb35d7', '7894fb4a-70af-4966-823b-f12dce5441cd', 'dc9bca0e-1501-443c-95d7-3e6db5aeeaea', '34a08bf6-5457-4998-aa59-caffca5b9395', '969af726-bf5a-4621-bafd-3c33237bdf7b', '7c0ced2c-2be9-4aa8-af13-27b245dd2451', '89936035-b592-4edf-9bb2-4b4f01530236', '8edd1713-219c-42a6-9c35-16bd58965a8f', '938501d7-b188-4ff8-9177-928bf66014cf', '66a9c0f8-c16d-4a96-b71e-623dafffd485', '6c6d82f9-f89b-481d-8022-a4d58bb6cd47', '779d38b5-e1db-4367-9fed-cd1b1267de97', '18b51c7d-456b-4784-9568-f3718f1a7a48', '27808b10-f08b-4030-ab48-1e330ee495ac', '475953f0-2c6a-4c2e-8bfc-cbe3b7090b0c', '976d093b-f279-41e8-91b3-5d194d5d0563', '2a71bb74-1ed0-4441-a382-a8a9ef8722e4', 'fd6c61c0-0430-4435-9ee5-4357d7db765e', 'b8f8c731-60b0-4652-85df-0557446ea809', '63b3f4df-fd2d-4fe9-ade5-63b4d546ef4f', '0d9b70f6-195b-4f90-b3ca-d0b146cbd28f', '104be10e-ddfc-4e63-804c-c5c8f37f973d', '9856a278-8a68-4ca1-8beb-f6af9d5438d0', '209c763f-6c54-4fe7-a7e6-85acdc0d2bad', '54e1d7ba-52c7-4aba-a35a-1122c20e9c70', 'd1dcbd25-b224-490b-8425-f1721448a325', '87ddeb93-66ef-49bb-9c99-76f219da0472', '8fb2e53b-e7c7-435b-8dd6-90aecff7b115', '53675f97-03be-4d64-828d-e2ffa3cfcd11', '3652798b-9980-4423-b49f-9589f653c02f', '011dc53e-ab6d-467d-85a5-8ecedc20ff24', '9756dacc-ec54-4b02-8362-738405d41f6b', '4cb030d3-a153-4fe1-9de3-488408bca33a', 'd3591efd-f40e-4b4c-962b-fe9b933db2b5', 'cbc16231-4f0a-4085-9d16-998c42cd7bf2', 'c9357dca-1d72-4ce9-afd2-73b7517ba3a6', '5df0e3eb-96ae-4066-8a6f-3aa9059f77fd', '68b258ab-1788-4eca-b3c2-cfe76e7af134', '438a3332-4588-400e-a531-9e35f6b67b0d', '0ae6cff4-c516-4dc2-ac59-3f074104f059', 'a355c62e-68f1-48a9-ad8a-ec44148d83fe', '275cf85f-3f56-429e-9ffa-27af1fdf9dc6', '0c668922-2051-4dd7-9ee4-5ddbf97bebc3', 'adc3f334-483b-4695-8ccd-68893ad31526', 'c617cfff-4444-4394-b08d-ec559838c90b', '35e07cf2-7d98-4631-a02d-0c323bae373e', '11faf7e6-3d82-46a3-a846-fcb703d23976', '9ac1652b-f44c-464d-a11c-de281507e23a', '60fbdf42-ea20-471a-b7a9-8bab40fc5fee', '687a8a8f-5f0b-4168-b79a-88927172c66e', '4d9096d6-fc4a-497b-a32e-73ddf3b72c22', '87574858-9559-4438-973c-7000d606af26', '2fa55489-3fdd-476b-82f3-182e5005a561', '049eee6e-562f-4b40-b63a-3ce40bb5fbb6', '0b92b19b-b674-420b-9199-7378629553a3', 'c6131f26-0e9d-48dc-8ad8-d27824490cf7', 'bf8cb1b7-2b96-4a9a-bdbb-fb73a4d41f3b', 'e7cedd64-5a60-4303-a10b-65653dc3fffd', '0a23ca23-b40c-4836-a81f-fd7faf3feb45', 'e453bd3c-a616-4a7a-b550-71a65e63c5d9', '50175d54-2a4c-4688-a4b5-32044c26f7d6', 'ef923be0-c032-4f23-8425-5fc94224537b', '8cce8935-6e49-4233-b223-aea812090a92', '3b31eba2-cc30-42a3-8389-a9cf38a0ab2d', '72c1b469-fdae-4435-a379-77377fb5e628', '12fc9dbf-cd99-459f-b00f-500586dcf7f1', '174b73a3-2cc3-4535-a5fe-4225e0798d95', '27d388a8-9f65-4e5d-a73a-232b9fd8c1cb', '25e4b154-db07-4b96-a147-e578bc3ab644', '720e46b9-4ddc-4ae2-ac82-8eab1e111bb2', '072f1161-b128-47c5-8b17-7a504a10481d', '0b5589c6-9dc2-4a24-a76e-c0090edcaa7c', 'f0aaa559-25ea-4a8c-955b-925991a7ab87', 'ba8f4e61-8d96-4ca4-8e24-61288bd31e05', '44ec6322-893b-40f0-86d2-720609a904d9', '2d553544-5cbb-42e6-b9f1-2598f5b5b7ad', 'e95c18be-d919-466e-a59f-7b8a9a581a2c', '2eb8545b-9812-4368-8c8c-66f896f43652', 'd05b6e33-57e9-4f4d-9f65-073792f7f6cf', '00323239-ae04-4c49-9ac8-98e9c8a8130a', '6786f637-339e-4b0d-b135-f6321f5c1b72', '2547a6d7-e863-4754-a2ba-41d1ff611415', 'f7c05d9f-7cf0-4c87-a83d-323cdd585300', '2e567b3d-14ad-4ee9-847b-b3d650d6240f', 'f64c050c-3ec3-46d6-8795-ed03cc907343', '21151c60-86c5-4235-bb13-92cf2df6b959', '21f6e3ee-1098-43ac-b46f-57e81d764c35', '9baf516c-f91c-42b2-a78e-1e3f9190ae76', '18d1982b-e10d-4838-a268-c94b53158461', '789ac6e9-0aa6-4081-884e-73d2789ae738', 'bfdf8ce9-32b4-427a-a693-b13fd2fa2805', 'f2288332-cf54-404a-a806-fabe45cc3d0b', '5acf5428-c301-4e50-8c30-d6ad015b7392', '38fddffb-6a3b-4036-9304-fbe94a3fdcfd', '852bf4ed-3d8b-4dcf-9744-a7cef36490c2', '91de943e-a4e7-43fd-b524-a397a07c2d15', '3d04769a-d439-4cc6-9c45-fdc2ab0dd547', 'f4ca729a-7483-49eb-8a1d-f455b4681879', 'd3eb339f-3d34-47bd-a3f0-f613bd64a119', '8ed1bf4b-6843-491c-bc73-7ec7419da1c4', '4d45c031-fcbc-4d16-b614-51a8c5df2464', '4d2bca3b-219c-4a5a-8c9a-6600c8da84f9', '5d9019f9-f9bc-4129-95b8-8144d5b4c864', 'd064fc14-0856-45ee-ba21-55f2bbbdbe7b', 'ddbbad2e-8ec6-4ff2-80e0-3f6c0be5bdb2', '63279636-82cc-43fe-82bc-77e9f6376503', '062b18c5-ab32-4d21-9c39-a6719ed992c3', '98af9f3c-3bbf-4e88-bda4-4657f1babe4a', 'a3f1bc60-4bec-4d0b-a977-7921aa58b221', '51c3736b-7b97-4720-bc69-0e26c80700fe', '7a99dc96-96d8-451a-8b15-80be012d5cfa', '57fc7f94-d083-477d-bfa5-327abda33836', '6fb8974b-d87b-4470-9edd-0e14b1c5a350']\n",
            "Answersheet IDs flagged by method 2:\n",
            "['4faf9b32-3634-42e4-bf4a-fc0d56783090', 'b5208174-43f1-4489-89ea-e87cd3525839', 'd1dcbd25-b224-490b-8425-f1721448a325', 'cd694f08-166c-4bd1-b2ed-daa5b7658ab7', '8cb54176-7491-4b9a-ad8d-b919446bb7c7', '07cb8781-abb5-44b8-abec-906c297b66b8', 'a3f1bc60-4bec-4d0b-a977-7921aa58b221', '976d093b-f279-41e8-91b3-5d194d5d0563', '5cb9781a-ca1e-4232-b81d-7f1f5424b3b8', 'e7cedd64-5a60-4303-a10b-65653dc3fffd', 'fc5a80b1-d39c-4443-9103-c3ac4289fb38', '76452320-1041-4f64-beea-f2e13b5ad0aa', '7408f5c4-6f57-4bd6-a81e-214000148b1f', '87ddeb93-66ef-49bb-9c99-76f219da0472', 'fac28563-b9fb-41b2-935f-189b3681afb5', '8cce8935-6e49-4233-b223-aea812090a92', '836864c4-50e0-447d-8628-3e4d98d42c28', '6b7a1f2d-0be6-4611-9d11-2f2faed5b9ae', 'e0b189ad-9d97-47ed-aa85-9b39d7f69ef0', '4d45c031-fcbc-4d16-b614-51a8c5df2464', 'cf612753-40a2-467c-94e0-bae98f286b78', '02451fd1-0222-46e5-a9ac-17265daf4383', 'ea95afa3-6f56-4cfc-b81c-002ecd9213cc', '753baed3-af79-4cb2-8305-1fdbc549a2a1', '7a99dc96-96d8-451a-8b15-80be012d5cfa', 'f8afb656-66cc-4452-a901-0f2e0e8a0152', '3b31eba2-cc30-42a3-8389-a9cf38a0ab2d', '11bdffcf-2018-4f83-80b7-9d7d97bd738e', '9ce68d11-06fa-488b-9b19-b538cef6d9d3', 'bf8cb1b7-2b96-4a9a-bdbb-fb73a4d41f3b', 'c6d4f841-6695-4566-a67f-a37d5188acf5', 'a1565179-5976-4f72-818f-d100c5e0dcf1', 'd2effbb8-ac2f-49ec-92b3-4f539707bd9e', 'ba1679e4-5e88-4b88-94b0-ee62b9a9ff2b', '0f18c35c-4543-4a2f-b8a9-115ffabd90ec', '4bd19ec0-ba82-4495-ba84-17bf3b4c1525', '9d031be4-3e90-4601-a657-1cf3730d30eb', '00323239-ae04-4c49-9ac8-98e9c8a8130a', '3af90938-37c8-42f6-b460-92e785ecd26b', 'e190caf3-e0e6-4f5e-8a6e-218adb40af05', 'f0ffda12-9e05-48df-838b-028e542feb6d', '184d9c8f-88d5-4173-9b3f-052d9acb9631', '105ae3da-f1fd-4159-94f2-338934f4e36d', '51c3736b-7b97-4720-bc69-0e26c80700fe', 'df58ad81-7a78-4494-9a71-cba77b50ebf5', 'a3067aca-b72e-4ce7-86cf-6e8ee3526834', '6937b4f4-912c-4c8e-8781-59783cbae31e', '4df262be-d2f9-495e-912c-d942aa265d77', '51087524-3241-4475-a217-a8e780c48ebd', '7739e3f2-00be-4108-bfd4-83dddd681901', 'e42e411b-ba05-4456-a968-871d43452333', 'cecb8f43-c922-4804-aa7d-55ec742e0694', '34413e09-0635-4042-8ac5-0a24dd1035f9', '179561ef-485e-4b7a-992d-696d59bbda58', '53675f97-03be-4d64-828d-e2ffa3cfcd11', '6cba91fa-37a1-4686-b58c-142442ba68a5', '10e65d13-0806-4fec-8d14-2a51b858b31e', '6fb72239-f6c3-4a26-9be8-c04d0cf36f45', 'd2436100-cb55-4454-9e76-91b411949ed2', '66a9c0f8-c16d-4a96-b71e-623dafffd485', '01fceff4-29cb-4dc1-aeda-04bd9854e9f6', '12fc9dbf-cd99-459f-b00f-500586dcf7f1', 'd4331948-5d99-4ba0-bb17-aed76e0638c4', 'ea795a1e-f5c5-46ec-960e-8f010621119e', 'a7acebac-e378-4d03-a683-37602f1c4acf', 'bb05d030-c407-49cf-ab43-ffb23fa2c5b3', '41c848fb-77fd-41e3-92ef-5ab5a7f32021', '2cded760-29d0-4f29-934c-5b68afac43dd', 'e03f5462-ec71-4ca6-a480-2060fbb60542', 'b09a73d3-582f-4c98-ad56-91b60f8d7b5c', '905239dc-521c-47f9-a33a-360ac07a7c4f', 'd5df794f-0b35-4f25-8f16-1fb45c5b154c', 'e5961e50-b4d7-47b1-8f7a-0c00e1be6cd0', '232594d8-ce40-4142-b924-883e4c9d59f5', '5f4430e9-074f-4914-af93-379daa5b2523', '57fc7f94-d083-477d-bfa5-327abda33836', 'e2737037-e606-4308-9fed-90a5d5a5c980', '7b7d3907-87b1-4898-82fa-564799ebc864', '938501d7-b188-4ff8-9177-928bf66014cf', '5ef42995-fa85-4701-89f8-5b2146e15ba1', 'ef923be0-c032-4f23-8425-5fc94224537b', '9ffb3fde-7734-477a-988e-c3d13164a8b6', 'd5b12a6f-c8dc-41ba-85ab-9f96b32dccb1', 'a91f60de-469c-4882-8cec-b22af1f6abf7', '63279636-82cc-43fe-82bc-77e9f6376503', '318cad39-4439-4983-9f7d-2a1c10fe2005', 'e32d74d7-f1fc-4bea-9293-f741962d5f67', 'f4e7841f-ee81-49ea-8e9f-a3c57b3375a0', '2fa55489-3fdd-476b-82f3-182e5005a561', 'aa567c28-330b-477b-84de-04ff9adc77dc', '2aa95707-b000-4bb9-a58e-05d8f64937f7', 'df2fded6-8f30-4743-815f-8651f9b8a97d', 'e1977412-a6e9-41ef-8d97-83958ed93aaa', '2c1c4bf8-40bc-473d-bc01-e7ecd910caa2', '13c67e1d-ba8b-46ac-9711-5d804b9eabb3', '948d12c9-5a44-4ddb-9a2c-b4b676fbad72', '1a7b5864-c1ea-48c7-8195-a4472af946f6', '2c3c6812-209c-4b1e-871f-de547bede164', '0b92b19b-b674-420b-9199-7378629553a3', '445f4941-0a6a-429b-9577-b605c95c0705', 'b9bdf81c-3d7e-4faa-bac4-af6e6ef60ac3', '79602ecc-5ba9-4bc4-83ab-fbddb4281dac', '460ca417-b5c9-44e2-bc20-247f9ed0e0b7', '2d9a5aad-ff79-4867-8ca4-722b588009e3', '046ba4fa-9ef0-43e5-934d-319b7b2e779d', '9b482471-ba97-4234-b3f6-3068d8af3a2c', '7a9302b6-21f3-4a29-9ff3-a22e4e0e4ef2', '1ea5b2ae-eb7d-45fa-808a-9d2a67c8cbcf', '7bf1b9ef-6ef6-455e-a3f6-6320cdbaec69', '871719ea-121e-493b-8357-be3da16a19c8', 'f653ad29-70fd-499b-9b00-24ddcf8805d5', '01fc3c71-d3b2-45ae-a893-c3a1302695ce', 'c2eb4e31-38e0-4e0d-92f4-230f7ae16180', '2c5d34f4-84fc-4d7f-a201-b82e57b671ba', 'e8813f0d-3b41-4d8a-961c-e6fead7320bf', '046dde8b-749f-42bb-af01-eb811eab6c7d', 'c2244d7f-b0d7-4af5-b7b9-5a88f90dd6f9', '02bb2c12-9317-4b26-88e7-1169207b23d7', 'b96933e8-814a-4ef3-bba4-32665fcd11ea', '34ceb013-e122-494e-9d30-aa018533ee75', '0a23ca23-b40c-4836-a81f-fd7faf3feb45', '6cfbb58a-813d-4904-a09e-d072847d0e4e', '9a3c47f1-22ad-474c-bc74-b8ebe64f7493', '5ee6fd4c-b2e7-43b3-bb84-eef70c3be2fa', '9dfa6982-c66b-4508-aebc-7faee21ef3d4', '3e58a253-f1f6-4ae7-9a48-4b24340cc164', 'ba1c5736-0f7a-49ca-86f0-2dd356b18330', 'b2d94ecf-01ab-4a39-9e96-ccb524e32df3', '2041b438-d811-4701-8692-3f6909fe8029', 'cf2e26d9-752c-4f3d-b6b1-d4748108e16e', '5a6e02e3-2bb2-42cf-8bde-386990554cfd', '8c4f9ef3-d0d7-409b-869f-a2ac274302ea', '32912256-90a9-4773-9545-c6da42f9cab6', '011dc53e-ab6d-467d-85a5-8ecedc20ff24', 'a494b1b9-13ff-48a2-9b8e-b7805694e8e6', '41805d13-4c79-403b-81d0-a16345357342', '72c1b469-fdae-4435-a379-77377fb5e628', '99211001-b313-4f09-bc90-972a8e8f8da4', '3299350e-7976-459a-b7ee-0b6c2dbe6957', 'b2fe41e3-35db-4cec-b13f-962098d31c71', '34a08bf6-5457-4998-aa59-caffca5b9395', '98ce2d73-792d-4cf9-a4df-7025d82e0255', '14f41c3b-188f-4b05-a216-5756464367a0', 'c19e602d-836e-4b96-89e8-05db284ed737', '672d8462-f61d-4a42-901c-f2ea3a8dbd4a', 'd6257b1c-4e59-47e3-b4ed-d615a4f58bea', 'aa93b23a-ed23-496d-905a-f7fced181d8c', 'f959db96-5ca9-4f65-bba3-8f3e05c48e57', '387a5311-d05d-48be-8b27-922727fb35d7', '3b177765-da82-4669-a278-bb21bc87a783', '5d9019f9-f9bc-4129-95b8-8144d5b4c864', '33e4afbe-1c54-418a-a5d5-ac7b3070a92d', '629848e5-7714-4b69-8700-5676e8e16add', '06cb8e71-0e07-46ab-b3f2-fb545da9dd09', 'f64c050c-3ec3-46d6-8795-ed03cc907343', '31f408eb-3574-436c-ab2c-e3c114762622', 'e0201fed-085f-446e-94dd-a1739ac42313', 'fa08387d-a658-47b1-a010-1286f1ebe2af', 'd94a4f62-c19c-4fc2-8cc9-a854573d5c88', 'd7e62ca2-6808-46a5-8a29-5d335bd0436c', 'baeafddf-cf76-4a30-827a-b7dd61059738', 'd7a6779f-c922-4dbc-ba61-70e1498e131b', '76cb3c06-da8e-4381-8145-bf6f57d11db5', 'ebac691e-ac69-41ea-8bf7-49ede2102a77', '57a42448-e68b-47a6-ad85-a428fc7e2a4c', '969af726-bf5a-4621-bafd-3c33237bdf7b', '50df2ae0-bf4d-41e7-aae2-6f7947698e0e', '73abd2e6-28d5-4b7e-b8fe-ee027bbc8232', 'd6e7d3b1-8626-45fd-9354-5e7588859cd8', '44f71f45-2474-4880-a80c-1e98d2bdfee4', '02a1bc16-1b39-446e-ac1a-c24da5fb9e8d', '903e2181-5a07-422d-b50f-ccba03b9a667', 'a355c62e-68f1-48a9-ad8a-ec44148d83fe', 'ae1b006e-d268-44ba-a746-754b261b49b2', 'cd371776-17f1-4ba2-9559-fe27dfa458ec', '751c8a21-60fa-454b-943e-da237f6be34a', '38ce9c0b-f92d-4bbd-b992-c63ec90c4f7e', '659865f6-4f18-4a9f-a27b-ec0d34689da7', '444e175f-7c79-4dca-92db-f7a867087d09', 'dbe656af-b267-4e60-9c98-b252b0208e76', 'ee210dfe-a749-4071-908d-c6cb8b154cd2', 'a6664110-f584-4f02-a0a5-c852ba82a97a', '4d5153b4-af8a-4385-87a2-117f1b81d9f8', 'b3a5712b-7629-4d9c-bc7e-d906a97f654c', '66dd5f0d-9663-4a85-b3c3-c004d4007fb4', '328442f3-0161-4e8e-badf-7767e6204d36', 'd5a0d9af-bb75-4204-9cfe-60fe66193f51', 'd5f5fb19-afb9-4724-9b73-42ba22640207', 'a82dbd89-1803-4a75-a2a9-90436e241ec9', 'f5a0b944-0d3d-4a93-8b3c-a979e39a154e', '8c19b161-7cb2-4030-a1b5-93da086ba580', '6effe4e4-68c0-4cca-bdd5-f226089e3ef5', '0b5589c6-9dc2-4a24-a76e-c0090edcaa7c', '07a16b12-5582-451f-bea2-1ed0d81ad71e', '666e3e33-3528-424f-966e-95e1e3095d43', '6a1b1078-5ee2-4c17-baef-a64c7852aac5', 'c415b971-174b-4df3-a97e-fdb6b338dc43', '4f2854e6-d795-4aca-801d-b2325bb8bc15', '61888aa8-6382-4dcf-af21-5bf343ee0b65', '47051d51-4084-4bfa-a861-cbdd92a2ac02', '3616dfb4-8c9d-4c02-ab51-c831a6b6a2f2', '8dd42d00-3d5c-475b-a3bc-70d64e88a899', 'ed6cf712-2feb-423e-9bd9-2aa645387eb2', 'b4888e06-a388-4c84-8400-e3998eda93cc', '2d032296-b7b5-4b32-a539-837a6479bfb7', 'd05b6e33-57e9-4f4d-9f65-073792f7f6cf', '420e94a7-4700-4dba-ac73-be6d1412db7e', '0ec22ea3-c13a-49f7-b9ef-bc73f28cc233', '805487e0-9d65-4274-937a-04a7abab003e', '475953f0-2c6a-4c2e-8bfc-cbe3b7090b0c', '4bf05a5c-7f60-4c63-9f2a-0c9918fe67f0', '87574858-9559-4438-973c-7000d606af26', '7868c97b-6590-43fa-9acd-b42ef8203f04', '2eb8545b-9812-4368-8c8c-66f896f43652', '65f4a69f-332b-4841-aa5d-6d5f015a90ea', 'fdbe864c-e370-44fd-987e-5f32204f195f', 'ed01e853-40bd-4760-9bcf-6c73c83ab46c']\n",
            "Answersheet IDs flagged by method 3:\n",
            "['4a669d25-2bea-4746-ab11-40eed762f4d2', 'cee7835e-2d3c-47ca-8875-f4c96900c3c4', '31befc32-8314-44b1-aed9-52dc561bd128', 'cf3bcfcd-cc28-4bbe-895f-631f52b3bd2c', 'bc8ce3ff-8864-4647-a2ba-3972b36fb59f', '88ef39f7-7d95-482c-b9e2-8a9e5b963493', '84c3fd7b-8723-425d-ab11-37e3015bd571', '9d5251f8-54d8-4175-a53c-0c965142dfb9', '76cb3c06-da8e-4381-8145-bf6f57d11db5', '81f735f0-22fe-416e-979d-9adb1e27f8d6', 'cf612753-40a2-467c-94e0-bae98f286b78', '89de5e5e-f4bd-452e-a65e-5068776e5e2e', '34413e09-0635-4042-8ac5-0a24dd1035f9', '8765afd6-493b-4824-9049-a7b189020187', '88a5f089-5080-4d72-8dac-a292ade472ac', '9da32439-4f94-4bbd-a031-8adef8107f5e', '97d1e7cc-32cf-4a6a-94a8-639e0cc68de4', 'f82e24d9-64ac-4710-a27c-deff46887f3a', 'a0c34e21-bac3-4e28-bece-89c4a68dc601', '5b023aba-8f02-438f-919c-764e01545418', '072f1161-b128-47c5-8b17-7a504a10481d', '144d405b-ea9b-475c-a27d-1b98b1ea5909', '53dd8aa2-09cd-4bca-bd1b-aa083b7d880c', '05b58f13-6dda-422c-a8b5-d37302fdf58d', 'ada233e9-8c96-4d32-b16f-64d3b057fc84', '2e19d544-aef5-4599-a944-5fb6a63e2d57', 'f9850f30-ebba-4064-b05d-8529d59d5e9b', '782d0ae0-9709-4ef4-849e-334fa9d731e5', '911db093-ab88-474e-991c-f767d5a14821', '597713f2-fb95-429d-bf37-32b10ec24d31', 'c96ac80f-46cf-448e-bc85-5b56a916055d', 'c6131f26-0e9d-48dc-8ad8-d27824490cf7', 'c52102c7-5594-4911-9036-0ad2e00aafdb', '76bc93f7-eceb-47d4-bf4d-97257b2d0553', 'cecb8f43-c922-4804-aa7d-55ec742e0694', 'c1511148-bf75-410e-a738-edf88f6106e9', 'dd436fbb-5c0e-4276-8e1c-3717f1ff8822', '0396e6f3-8775-4640-ac97-1167246d8314', 'c5113b74-3b9c-4af8-af24-200ee088ba3c', '01c09d9d-d16e-4ae1-ac90-3189207f745e', '18b51c7d-456b-4784-9568-f3718f1a7a48', '4f6418ed-645f-4226-876f-c7d030fc5f75', '969af726-bf5a-4621-bafd-3c33237bdf7b', 'd64ea092-7c82-4fa8-aa4c-e75dfac15ab8', '05790ea4-3506-485b-957e-ab20c405a069', 'a76cc5df-9f85-49ec-a6fe-c9af46c937de', '8c19b161-7cb2-4030-a1b5-93da086ba580', '8f3db2de-8c53-4ea9-976b-9d31264a611d', '4823a461-c951-4721-b82c-3f3bd0b6eb14', '9fc82149-1573-41a1-8c7e-5c2dd1c45566', '07ff10b2-dab5-49f0-8810-64bafb6d8876', 'a82dbd89-1803-4a75-a2a9-90436e241ec9', 'd2ebe2fe-f8bb-47a2-9590-266344de0728', '82493630-d9bd-4092-85f7-5e765d45992e', 'f64c050c-3ec3-46d6-8795-ed03cc907343', '046ba4fa-9ef0-43e5-934d-319b7b2e779d', '1c3f5c38-6203-44aa-b7a6-7f93547c9e87', '093da82c-6c24-4b7f-8309-358fc0a3480c', '0eee948a-b1dc-4d74-bc81-426303e9e641', '1bf93859-edc3-49cb-ba94-660c30b402c4', 'cf2e26d9-752c-4f3d-b6b1-d4748108e16e', 'f0ffda12-9e05-48df-838b-028e542feb6d', 'a4deb39d-f494-443e-8af9-c94cd6e4460d', '4bd19ec0-ba82-4495-ba84-17bf3b4c1525', 'a8e4fb0a-1d9e-4dab-987a-8ee7686087ab', '709b9be1-7353-4cab-a2b1-f685429d8570', 'ba1679e4-5e88-4b88-94b0-ee62b9a9ff2b', '6119f05c-019b-4450-b4a7-02441f3a7e58', '355c05d7-b83c-49b0-88fa-8dfb6c750d97', '0a23ca23-b40c-4836-a81f-fd7faf3feb45', '4fea7f77-4eb7-42ce-8fa1-cecfd33f89b6', '9ffb3fde-7734-477a-988e-c3d13164a8b6', '8903cfdb-188a-47e5-a25c-2d217d0aa9bc', 'a070c8fe-195d-4b1a-9c1e-4a4ed5a88b56', '0c08d967-1a5c-49ed-9f20-22bb5daf0424', '1c4878fb-4bb8-4cbd-b6de-2500e0f60acc', '32912256-90a9-4773-9545-c6da42f9cab6', '97c88857-dd1e-41d8-8ec2-7d49a9553fd6', '07822d21-239e-4fdb-ab9f-adcd1423fe60', '34efeac3-dd52-46be-8ece-06984cdb8efa', 'edc5ee06-433b-422b-b181-503c2efd0964', '105ae3da-f1fd-4159-94f2-338934f4e36d', '184d9c8f-88d5-4173-9b3f-052d9acb9631', '691ddc3b-93a0-4574-95ce-2efe731b0f1a', '97c2c520-a23a-4c5c-abee-b97e364e4f39', 'e8aa9041-dd05-4af4-808c-ce919dfb2c06', '76cf7134-0a8d-469a-80b8-ed0000f3fe18', 'e190caf3-e0e6-4f5e-8a6e-218adb40af05', 'f17cb6a8-6c25-474f-a87e-d77b8712bd0d', 'b09a73d3-582f-4c98-ad56-91b60f8d7b5c', 'b2d8c2f3-37e6-461a-9297-5f14b20d22c2', '8d979a92-38c5-4b71-a868-46fa1b2ef71b', '2c1c4bf8-40bc-473d-bc01-e7ecd910caa2', 'fdef769b-117c-40ba-af15-e579dbf57fea', 'ca7b9bf1-5ed2-427b-ba0b-cc8686896449', 'cd371776-17f1-4ba2-9559-fe27dfa458ec', 'c0535a7b-382e-4531-9eb5-9ae4a80f8d5c', '29c1de74-5a25-4285-a520-5da6eb721d86', '2eb8545b-9812-4368-8c8c-66f896f43652', '91de943e-a4e7-43fd-b524-a397a07c2d15', 'ba8f4e61-8d96-4ca4-8e24-61288bd31e05', 'b240dd4f-a2c6-4784-8f3e-2d97107160f7', 'b4158148-b7c2-42d0-b5d7-2f030cce36fe', 'edda0526-0a26-4463-a910-7b5bdee04f38', '8e2f6de7-2ac7-4749-b28c-c283713d17a4', '9226fb09-4a7a-4de0-9f44-527ff9b7cc2e', 'b852fe65-1991-4710-9425-672a5bffd332', 'c9a986c1-6931-4cee-9bbf-f0eb57cb1fc3', 'db531a00-4ce6-4c49-ad90-0aa959f476a8', '8cb54176-7491-4b9a-ad8d-b919446bb7c7', 'ba1c5736-0f7a-49ca-86f0-2dd356b18330', 'ed01e853-40bd-4760-9bcf-6c73c83ab46c', 'fe9e04c8-f77e-4951-8b4c-18e90c6146c2', '14fcbfcb-9106-4b0f-ae6a-a253bbc78647', '252c321f-ed09-40dc-a448-a9225cb12531', '44ec6322-893b-40f0-86d2-720609a904d9', '4df262be-d2f9-495e-912c-d942aa265d77', '0ec22ea3-c13a-49f7-b9ef-bc73f28cc233', 'd5f5fb19-afb9-4724-9b73-42ba22640207', 'e42e411b-ba05-4456-a968-871d43452333', 'c415b971-174b-4df3-a97e-fdb6b338dc43', 'fa0150b6-01d4-4c63-8c29-74f173ace351', '9d8672a7-967b-47b1-aae3-687e085a303c', '6722d01d-6345-41e8-bb22-c94e57497d13', '50062d12-dcd8-4be1-aff0-197882e68549', '948d12c9-5a44-4ddb-9a2c-b4b676fbad72', 'c2fe3a77-0d60-44e3-a589-fc5b334fe300', '8ee67714-f18d-471b-b2b8-74cd11ad6200', '70fbfdd9-0a36-4c75-b4cf-acf39356058a', '35b6e39f-37c8-45b4-93dc-435189d81036', '1ea5b2ae-eb7d-45fa-808a-9d2a67c8cbcf', '1395ee18-27bb-41cc-b6d3-d3073332c3b7', '232594d8-ce40-4142-b924-883e4c9d59f5', 'd1853cb4-e752-4c13-a0ae-861b762af8da', 'a8cc6ffc-a882-4211-ba23-8057d16b37c4', 'e03f5462-ec71-4ca6-a480-2060fbb60542', '60ce851c-8faf-46d3-96f9-ec58d0b98537', 'd8221994-898a-4647-8754-8d9c6653d25b', '27d32497-80e4-4463-b9f5-88eefd637428', 'abece2fc-a080-423d-9785-5229cb099a4b', '17c5a47b-b78d-4149-9a80-20cc16a4de65', '17a158ac-56b1-4fa6-bf93-d13c68291c49', '458dfbdd-5bc7-4cd0-a67d-2a418ce99a1c', '0ac31d98-c467-46e5-8d50-1cf8a888d16f', 'e0b189ad-9d97-47ed-aa85-9b39d7f69ef0', 'c22d367a-3d39-42ba-95c9-5fd86c3319ff', '30d97d0e-2342-444a-a458-c7446ee09103', '0cab07ee-8d45-479e-bc13-bda66213b775', '2108cb7f-74d4-41c4-8663-03123ab5fe8a', '6fb8974b-d87b-4470-9edd-0e14b1c5a350', '679f4642-fb3e-42f2-a3f7-e7ea23e19393', '854822e5-98a4-4a0f-99fe-974ad0c277bb', '5a75caba-78c9-48ca-b180-f09b494740c6', '89936035-b592-4edf-9bb2-4b4f01530236', '8c4f9ef3-d0d7-409b-869f-a2ac274302ea', '4be560f9-27f9-437c-8585-5e874fcf516b', '983c2c1f-24ed-4a18-8b29-7ae6f1c1d1ac', '2d032296-b7b5-4b32-a539-837a6479bfb7', '400c33c1-c3ec-4e22-b717-045f53aa81b9', 'f347b507-a165-4083-8a35-455f7ba0850f', 'cd20abf0-24b1-4262-9118-411a68ed083c', 'c9357dca-1d72-4ce9-afd2-73b7517ba3a6', 'a3d26ec4-f11d-4996-bfa8-b24db2b989d7', 'c2cb8c59-e3d2-464c-84ba-77d7050aea1d', '3c5938c9-0f91-4475-bd08-1c06c8818a64', 'e1d76627-cb40-4470-8393-f5f342703066', 'c74e905f-bac9-460e-ba2f-7dc7f6611b1e', '7d1ed6e6-a128-433a-8d87-d8efddd3f752', '059cfd8c-c058-46b0-bbdb-54818e39af6d', 'de9336f4-f105-4059-8eaf-38b295ab2028', 'e018ce37-b5e7-492d-a529-ae2ca50d03d7', '4f69ab4a-3f1b-42cb-8ec9-e6c36183660e', '0d596a4c-2c75-4b75-bf37-d6d9a0775e90', 'd6e7d3b1-8626-45fd-9354-5e7588859cd8', 'f72b1e2c-7300-4742-a9b6-811232aaacce', 'e716a59f-8df2-40d0-8a66-92603f306181', 'a79ca5c5-58aa-4253-9f94-174c7bb6f9f6', 'a837f087-ad45-49c6-be67-a620de051b51', 'b4c2db6a-f813-4111-9f41-707210ece74d', '31d8f9cf-bf3f-483e-b2b8-a1b6f2486959', 'ea819e13-c614-4e96-965f-b56424b952b2', '1fd1c25e-66a6-4de7-976c-55e8538c5033', 'c3e634c8-c1a5-48a2-9c13-1de531ccea91', 'c4df8c86-7dcd-45c5-b533-ffb531704c14', '48596bf2-a009-42ef-ad55-33929f7abdeb', '658996b8-45bd-42a4-b20a-7574996ea674', 'a6664110-f584-4f02-a0a5-c852ba82a97a', '9ba0238f-8934-4094-8cff-94f78d6d1ef9', '10e65d13-0806-4fec-8d14-2a51b858b31e', '0a7a6ec0-7d63-4f07-99dc-d501798ad252', '5cb9781a-ca1e-4232-b81d-7f1f5424b3b8', 'b7a968fc-b349-495f-b569-dd8fac67474e', '5059a382-7612-4a91-9865-8a1ea7d535ea', '6bbfed12-f0f6-4398-8afd-d458341fba3f', 'fe18c541-b7f1-448d-925b-7bf5eb15970f', '6de20015-3d4b-40f9-b965-d09c7ade35a9', '905239dc-521c-47f9-a33a-360ac07a7c4f', 'fd642c20-0392-4281-aa75-89b5308712e1', '11bdffcf-2018-4f83-80b7-9d7d97bd738e', '5593f230-7a51-4f0a-a756-84f0a8a83658', '6a1b1078-5ee2-4c17-baef-a64c7852aac5', '9bce44dc-d413-4614-bb9a-cde7d66d31bf', '09fb61a3-e005-4ded-b6af-5838392a427e', 'f04e6d86-59af-415a-b6ee-934973aa25c6', '60fbdf42-ea20-471a-b7a9-8bab40fc5fee', '27808b10-f08b-4030-ab48-1e330ee495ac', '3b31eba2-cc30-42a3-8389-a9cf38a0ab2d', '41805d13-4c79-403b-81d0-a16345357342', '0a8a4982-7a87-4c83-9c6b-f61bbada970a', '87ff753d-cab1-4e5d-bd8a-2d27f799e00e', 'f4b34164-394a-4f3a-8dc3-21d1f04dd14b', '4265efa6-3aa7-4192-8b04-6371b9c11ac9', 'e32d74d7-f1fc-4bea-9293-f741962d5f67', 'c9419f3e-fe44-4bfe-bc8f-0881abc8466b', 'b65ddf5a-d59a-4f31-9277-2ab6c41c4174', '32f6364f-3d6a-4cf9-bef7-53bbad3d30fa', 'fa76ca94-6324-4619-a32d-81486677bf9f', 'da7e67f2-a8df-4f27-aa47-b9b7e41f1363', '3739d832-64fc-432e-a7b1-bb9f4da06867', '8c17f2ec-725c-4935-a51c-c76ba794959c', '26216e8f-bf3b-4e38-a1d7-ce2f39647a38', '9ac1652b-f44c-464d-a11c-de281507e23a', '5c0f17d5-b535-46d1-a781-3dfe9d4c62b8', 'a517a475-f8ea-456d-bbb9-f93dce6df1ab', '66dd5f0d-9663-4a85-b3c3-c004d4007fb4', 'afed0079-9591-4008-a249-48e766bf9ed1', '9fd5b63b-4f4b-4354-8734-9c54e4f08a6d', 'e95c18be-d919-466e-a59f-7b8a9a581a2c', 'ca3cfbae-8928-465d-9658-4bb7dba79fea', 'aedeab1f-b50f-41a9-b333-20d71b90cd67']\n",
            "Answersheet IDs flagged by method 5:\n",
            "['10e65d13-0806-4fec-8d14-2a51b858b31e', 'd2436100-cb55-4454-9e76-91b411949ed2', 'd1dcbd25-b224-490b-8425-f1721448a325', '6fb72239-f6c3-4a26-9be8-c04d0cf36f45', 'adc3f334-483b-4695-8ccd-68893ad31526', 'ef923be0-c032-4f23-8425-5fc94224537b', '318cad39-4439-4983-9f7d-2a1c10fe2005', '2547a6d7-e863-4754-a2ba-41d1ff611415', '79602ecc-5ba9-4bc4-83ab-fbddb4281dac', '6937b4f4-912c-4c8e-8781-59783cbae31e', '9b482471-ba97-4234-b3f6-3068d8af3a2c']\n"
          ]
        }
      ]
    },
    {
      "cell_type": "code",
      "source": [
        "# Method 1\n",
        "candidates_method_1 = final_df[final_df['answerSheetId'].isin(answersheetIds_1)][['candidateId', 'answerSheetId']]\n",
        "candidates_method_1.to_csv('candidates_method_1.csv', index=False)\n",
        "\n",
        "# Method 2\n",
        "candidates_method_2 = final_df[final_df['answerSheetId'].isin(answersheetIds_2)][['candidateId', 'answerSheetId']]\n",
        "candidates_method_2.to_csv('candidates_method_2.csv', index=False)\n",
        "\n",
        "# Method 3\n",
        "candidates_method_3 = final_df[final_df['answerSheetId'].isin(answersheetIds_3)][['candidateId', 'answerSheetId']]\n",
        "candidates_method_3.to_csv('candidates_method_3.csv', index=False)\n",
        "\n",
        "# Method 5\n",
        "candidates_method_5 = final_df[final_df['answerSheetId'].isin(answersheetIds_5)][['candidateId', 'answerSheetId']]\n",
        "candidates_method_5.to_csv('candidates_method_5.csv', index=False)\n"
      ],
      "metadata": {
        "id": "OkqVhw14ceWW"
      },
      "execution_count": null,
      "outputs": []
    }
  ],
  "metadata": {
    "colab": {
      "provenance": []
    },
    "kernelspec": {
      "display_name": "Python 3",
      "name": "python3"
    },
    "language_info": {
      "name": "python"
    }
  },
  "nbformat": 4,
  "nbformat_minor": 0
}